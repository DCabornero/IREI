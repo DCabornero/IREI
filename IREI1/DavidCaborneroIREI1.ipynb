{
 "cells": [
  {
   "cell_type": "markdown",
   "id": "4f440bb7-14da-4662-935e-5b8fb0270e8e",
   "metadata": {},
   "source": [
    "# First IREI Assignment: Profile-Based Retrieval\n",
    "Author: David Cabornero Pascual"
   ]
  },
  {
   "cell_type": "markdown",
   "id": "0dd59a49-54f6-4493-acac-3c9e4a57b650",
   "metadata": {},
   "source": [
    "Preparation for libraries and data:"
   ]
  },
  {
   "cell_type": "code",
   "execution_count": null,
   "id": "231261c3-e1c3-4190-969b-f9fa146a4a04",
   "metadata": {},
   "outputs": [],
   "source": [
    "# Only for installations\n",
    "!pip install pandas\n",
    "!pip install numpy\n",
    "!pip install matplotlib\n",
    "!pip install nltk\n",
    "!pip install sklearn"
   ]
  },
  {
   "cell_type": "code",
   "execution_count": 32,
   "id": "42b3aebd-b85b-4714-bce8-bb87a43eece2",
   "metadata": {},
   "outputs": [
    {
     "name": "stdout",
     "output_type": "stream",
     "text": [
      "100% [....................................................] 10208986 / 10208986\n",
      "Saved under ./data/ohsumed-first-20000-docs.tar.gz\n",
      "100% [......................................................] 5783726 / 5783726\n",
      "Saved under ./data/Reuters21578-Apte-90Cat.tar.gz\n"
     ]
    }
   ],
   "source": [
    "# Creting folder data. If it already exists, it will return an error, but the result will be the same.\n",
    "!mkdir \"./data\"\n",
    "\n",
    "# Downloading dataset\n",
    "!python3 -m wget 'http://disi.unitn.it/moschitti/corpora/ohsumed-first-20000-docs.tar.gz' -o './data'\n",
    "!tar -xf \"./data/ohsumed-first-20000-docs.tar.gz\" -C \"./data\"\n",
    "!mv \"./data/ohsumed-first-20000-docs\" \"./data/ohsumed\"\n",
    "!rm \"./data/ohsumed-first-20000-docs.tar.gz\"\n",
    "\n",
    "# Downloading control dataset\n",
    "!python3 -m wget 'http://disi.unitn.it/moschitti/corpora/Reuters21578-Apte-90Cat.tar.gz' -o './data'\n",
    "!tar -xf \"./data/Reuters21578-Apte-90Cat.tar.gz\" -C \"./data\"\n",
    "!mv \"./data/Reuters21578-Apte-90Cat\" \"./data/reuters\"\n",
    "!rm \"./data/Reuters21578-Apte-90Cat.tar.gz\"\n",
    "\n",
    "# DISCLAIMER: if you are trying to download it when you already have it, it will work with the original version and you will recieve an\n",
    "# error"
   ]
  },
  {
   "cell_type": "code",
   "execution_count": 3,
   "id": "cf4ed964-c4e0-46ff-8ffd-c59a191629c6",
   "metadata": {},
   "outputs": [
    {
     "name": "stderr",
     "output_type": "stream",
     "text": [
      "[nltk_data] Downloading collection 'popular'\n",
      "[nltk_data]    | \n",
      "[nltk_data]    | Downloading package cmudict to\n",
      "[nltk_data]    |     /home/dcabornero/nltk_data...\n",
      "[nltk_data]    |   Package cmudict is already up-to-date!\n",
      "[nltk_data]    | Downloading package gazetteers to\n",
      "[nltk_data]    |     /home/dcabornero/nltk_data...\n",
      "[nltk_data]    |   Package gazetteers is already up-to-date!\n",
      "[nltk_data]    | Downloading package genesis to\n",
      "[nltk_data]    |     /home/dcabornero/nltk_data...\n",
      "[nltk_data]    |   Package genesis is already up-to-date!\n",
      "[nltk_data]    | Downloading package gutenberg to\n",
      "[nltk_data]    |     /home/dcabornero/nltk_data...\n",
      "[nltk_data]    |   Package gutenberg is already up-to-date!\n",
      "[nltk_data]    | Downloading package inaugural to\n",
      "[nltk_data]    |     /home/dcabornero/nltk_data...\n",
      "[nltk_data]    |   Package inaugural is already up-to-date!\n",
      "[nltk_data]    | Downloading package movie_reviews to\n",
      "[nltk_data]    |     /home/dcabornero/nltk_data...\n",
      "[nltk_data]    |   Package movie_reviews is already up-to-date!\n",
      "[nltk_data]    | Downloading package names to\n",
      "[nltk_data]    |     /home/dcabornero/nltk_data...\n",
      "[nltk_data]    |   Package names is already up-to-date!\n",
      "[nltk_data]    | Downloading package shakespeare to\n",
      "[nltk_data]    |     /home/dcabornero/nltk_data...\n",
      "[nltk_data]    |   Package shakespeare is already up-to-date!\n",
      "[nltk_data]    | Downloading package stopwords to\n",
      "[nltk_data]    |     /home/dcabornero/nltk_data...\n",
      "[nltk_data]    |   Package stopwords is already up-to-date!\n",
      "[nltk_data]    | Downloading package treebank to\n",
      "[nltk_data]    |     /home/dcabornero/nltk_data...\n",
      "[nltk_data]    |   Package treebank is already up-to-date!\n",
      "[nltk_data]    | Downloading package twitter_samples to\n",
      "[nltk_data]    |     /home/dcabornero/nltk_data...\n",
      "[nltk_data]    |   Package twitter_samples is already up-to-date!\n",
      "[nltk_data]    | Downloading package omw to\n",
      "[nltk_data]    |     /home/dcabornero/nltk_data...\n",
      "[nltk_data]    |   Package omw is already up-to-date!\n",
      "[nltk_data]    | Downloading package omw-1.4 to\n",
      "[nltk_data]    |     /home/dcabornero/nltk_data...\n",
      "[nltk_data]    |   Package omw-1.4 is already up-to-date!\n",
      "[nltk_data]    | Downloading package wordnet to\n",
      "[nltk_data]    |     /home/dcabornero/nltk_data...\n",
      "[nltk_data]    |   Package wordnet is already up-to-date!\n",
      "[nltk_data]    | Downloading package wordnet2021 to\n",
      "[nltk_data]    |     /home/dcabornero/nltk_data...\n",
      "[nltk_data]    |   Package wordnet2021 is already up-to-date!\n",
      "[nltk_data]    | Downloading package wordnet31 to\n",
      "[nltk_data]    |     /home/dcabornero/nltk_data...\n",
      "[nltk_data]    |   Package wordnet31 is already up-to-date!\n",
      "[nltk_data]    | Downloading package wordnet_ic to\n",
      "[nltk_data]    |     /home/dcabornero/nltk_data...\n",
      "[nltk_data]    |   Package wordnet_ic is already up-to-date!\n",
      "[nltk_data]    | Downloading package words to\n",
      "[nltk_data]    |     /home/dcabornero/nltk_data...\n",
      "[nltk_data]    |   Package words is already up-to-date!\n",
      "[nltk_data]    | Downloading package maxent_ne_chunker to\n",
      "[nltk_data]    |     /home/dcabornero/nltk_data...\n",
      "[nltk_data]    |   Package maxent_ne_chunker is already up-to-date!\n",
      "[nltk_data]    | Downloading package punkt to\n",
      "[nltk_data]    |     /home/dcabornero/nltk_data...\n",
      "[nltk_data]    |   Package punkt is already up-to-date!\n",
      "[nltk_data]    | Downloading package snowball_data to\n",
      "[nltk_data]    |     /home/dcabornero/nltk_data...\n",
      "[nltk_data]    |   Package snowball_data is already up-to-date!\n",
      "[nltk_data]    | Downloading package averaged_perceptron_tagger to\n",
      "[nltk_data]    |     /home/dcabornero/nltk_data...\n",
      "[nltk_data]    |   Package averaged_perceptron_tagger is already up-\n",
      "[nltk_data]    |       to-date!\n",
      "[nltk_data]    | \n",
      "[nltk_data]  Done downloading collection popular\n"
     ]
    },
    {
     "data": {
      "text/plain": [
       "True"
      ]
     },
     "execution_count": 3,
     "metadata": {},
     "output_type": "execute_result"
    }
   ],
   "source": [
    "import pandas as pd\n",
    "import numpy as np\n",
    "import matplotlib.pyplot as plt\n",
    "import string as st\n",
    "import re\n",
    "from random import sample\n",
    "\n",
    "\n",
    "from os import listdir\n",
    "from os.path import isfile, join\n",
    "import wget\n",
    "\n",
    "from sklearn.metrics.pairwise import cosine_similarity\n",
    "from sklearn.feature_extraction.text import TfidfVectorizer\n",
    "from sklearn.model_selection import train_test_split\n",
    "from sklearn.neighbors import KNeighborsClassifier\n",
    "from sklearn.neural_network import MLPClassifier\n",
    "from sklearn.metrics import roc_curve, auc, precision_recall_curve, ConfusionMatrixDisplay\n",
    "from sklearn.metrics import accuracy_score, f1_score, precision_score, recall_score\n",
    "\n",
    "from nltk import PorterStemmer, WordNetLemmatizer\n",
    "import nltk\n",
    "\n",
    "nltk.download('popular')"
   ]
  },
  {
   "cell_type": "markdown",
   "id": "e0d2cecb",
   "metadata": {},
   "source": [
    "# Reading dataset\n",
    "* Selection of balanced classes\n",
    "* Creation of the dataframe\n",
    "* Creation of the control dataset"
   ]
  },
  {
   "cell_type": "code",
   "execution_count": 4,
   "id": "663ba35a-2389-4b78-8613-f53634728967",
   "metadata": {},
   "outputs": [],
   "source": [
    "# random state of the whole notebook\n",
    "rnd = 1000"
   ]
  },
  {
   "cell_type": "code",
   "execution_count": 5,
   "id": "8cd743f8-7bff-49ed-a5a2-279efe368f53",
   "metadata": {},
   "outputs": [
    {
     "name": "stdout",
     "output_type": "stream",
     "text": [
      "Class C13 : 281\n",
      "Class C10 : 621\n",
      "Class C15 : 215\n",
      "Class C06 : 588\n",
      "Class C16 : 200\n",
      "Class C12 : 491\n",
      "Class C22 : 92\n",
      "Class C05 : 283\n",
      "Class C14 : 1249\n",
      "Class C01 : 423\n",
      "Class C07 : 100\n",
      "Class C17 : 295\n",
      "Class C23 : 1799\n",
      "Class C08 : 473\n",
      "Class C19 : 191\n",
      "Class C18 : 388\n",
      "Class C20 : 525\n",
      "Class C04 : 1163\n",
      "Class C03 : 65\n",
      "Class C11 : 162\n",
      "Class C02 : 158\n",
      "Class C21 : 546\n",
      "Class C09 : 125\n"
     ]
    }
   ],
   "source": [
    "# Selection of classes\n",
    "mypath = \"data/ohsumed/training\"\n",
    "folders = [join(mypath, f) for f in listdir(mypath)]\n",
    "\n",
    "for fol in folders:\n",
    "    files = [join(fol, f) for f in listdir(fol) if isfile(join(fol, f))]\n",
    "    count = 0\n",
    "    for i,name in enumerate(files):\n",
    "        count += 1\n",
    "    print(\"Class\", fol.split('/')[-1],':',count)\n",
    "    \n",
    "chosen_classes = ['C06','C08','C10','C12','C20','C21']"
   ]
  },
  {
   "cell_type": "code",
   "execution_count": 6,
   "id": "035a9bcd",
   "metadata": {},
   "outputs": [],
   "source": [
    "# Creation of the dataframe\n",
    "dataset_list = []\n",
    "class_list = []\n",
    "\n",
    "for clase in chosen_classes:\n",
    "    fol = join(mypath,clase)\n",
    "    files = [join(fol, f) for f in listdir(fol) if isfile(join(fol, f))]\n",
    "    for name in files:\n",
    "        with open(name,'r',encoding = \"ISO-8859-1\") as file:\n",
    "            content = file.read()\n",
    "            dataset_list.append(content)\n",
    "            class_list.append(clase)\n",
    "            \n",
    "df = pd.DataFrame({\"text\":dataset_list, \"category\":class_list})"
   ]
  },
  {
   "cell_type": "code",
   "execution_count": 7,
   "id": "f23fb921-ddd5-4ffb-a6fd-c7a3f4114209",
   "metadata": {},
   "outputs": [],
   "source": [
    "# Creation of the control dataframe\n",
    "dataset_list = []\n",
    "\n",
    "fol = 'data/reuters/training/dlr'\n",
    "files = [join(fol, f) for f in listdir(fol) if isfile(join(fol, f))]\n",
    "for name in files:\n",
    "    with open(name,'r',encoding = \"ISO-8859-1\") as file:\n",
    "        content = file.read()\n",
    "        dataset_list.append(content)\n",
    "            \n",
    "df_control = pd.DataFrame({\"text\":dataset_list, \"category\":['None']*len(dataset_list)})"
   ]
  },
  {
   "cell_type": "code",
   "execution_count": 8,
   "id": "e67f9bd6-2eba-44b7-a1bd-45ccdf1186e4",
   "metadata": {},
   "outputs": [
    {
     "name": "stdout",
     "output_type": "stream",
     "text": [
      "3244 131\n"
     ]
    }
   ],
   "source": [
    "print(len(df),len(df_control))"
   ]
  },
  {
   "cell_type": "markdown",
   "id": "cc8ff15d-3aed-41c4-8507-b6daaeede268",
   "metadata": {},
   "source": [
    "# Preprocessing of data\n",
    "* Removal of worthless words and lemmatization\n",
    "* Train/test division\n",
    "* Addition of a balance control group to the test set with name \"None\"\n",
    "* tf-idf trasformation"
   ]
  },
  {
   "cell_type": "code",
   "execution_count": 9,
   "id": "3da1eedb-c933-4cdb-b6a1-167e40af961e",
   "metadata": {},
   "outputs": [],
   "source": [
    "def remove_punct(text):\n",
    "    return (\"\".join([ch for ch in text if ch not in st.punctuation]))\n",
    "\n",
    "def tokenize(text):\n",
    "    text = re.split('\\s+' ,text)\n",
    "    return [x.lower() for x in text]\n",
    "\n",
    "def remove_small_words(text):\n",
    "    return [x for x in text if len(x) > 4 ]\n",
    "\n",
    "def remove_stopwords(text):\n",
    "    # stopwords = [x for x in nltk.corpus.stopwords.words('english') if x not in forbidden]\n",
    "    return [word for word in text if word not in nltk.corpus.stopwords.words('english')]\n",
    "\n",
    "def lemmatize(text):\n",
    "    word_net = WordNetLemmatizer()\n",
    "    return [word_net.lemmatize(word) for word in text]\n",
    "\n",
    "def return_sentences(tokens):\n",
    "    return \" \".join([word for word in tokens])\n",
    "\n",
    "def preprocess_element(text):\n",
    "    return return_sentences(lemmatize(remove_stopwords(remove_small_words(tokenize(remove_punct(text))))))"
   ]
  },
  {
   "cell_type": "code",
   "execution_count": 10,
   "id": "2833c925-7fa2-4aa6-95fc-8ba450671dfb",
   "metadata": {},
   "outputs": [],
   "source": [
    "df['text'] = df['text'].apply(lambda x: preprocess_element(x))\n",
    "df_control['text'] = df_control['text'].apply(lambda x: preprocess_element(x))\n",
    "\n",
    "X_train, X_test, y_train, y_test = train_test_split(df['text'],df['category'],train_size=0.7, random_state=rnd)\n",
    "X_test = pd.concat([X_test,df_control['text']])\n",
    "y_test = pd.concat([y_test,df_control['category']])\n",
    "\n",
    "classes = np.unique(y_train)"
   ]
  },
  {
   "cell_type": "code",
   "execution_count": 11,
   "id": "96a7349c-857a-46d9-96fc-6faeb063c110",
   "metadata": {},
   "outputs": [],
   "source": [
    "tfidf = TfidfVectorizer()\n",
    "tfidf_train = tfidf.fit_transform(X_train.to_numpy()).todense()\n",
    "tfidf_test = tfidf.transform(X_test.to_numpy()).todense()\n",
    "\n",
    "\n",
    "# sim = cosine_similarity(tfidf_vect)\n"
   ]
  },
  {
   "cell_type": "code",
   "execution_count": 12,
   "id": "ce0ce652-d9c5-4e4d-812f-8a945fde6922",
   "metadata": {},
   "outputs": [
    {
     "name": "stdout",
     "output_type": "stream",
     "text": [
      "(2270, 16233)\n"
     ]
    }
   ],
   "source": [
    "print(np.shape(tfidf_train))"
   ]
  },
  {
   "cell_type": "markdown",
   "id": "e5acdd99-e94b-4e04-b042-f8fb3aad8a8f",
   "metadata": {},
   "source": [
    "# Classification algorithms"
   ]
  },
  {
   "cell_type": "markdown",
   "id": "e27cec8d-b909-4e88-8e1d-85aca94a666c",
   "metadata": {},
   "source": [
    "### kNN"
   ]
  },
  {
   "cell_type": "code",
   "execution_count": 13,
   "id": "97e729e6-2732-4720-8bf2-6039cb1ff237",
   "metadata": {},
   "outputs": [],
   "source": [
    "knn = KNeighborsClassifier(n_neighbors=15, metric = lambda x,y: 1-np.dot(x,y), weights=lambda x: 1-x)\n",
    "\n",
    "knn.fit(np.asarray(tfidf_train),np.asarray(y_train))\n",
    "preds = knn.predict(np.asarray(tfidf_test))\n"
   ]
  },
  {
   "cell_type": "code",
   "execution_count": 14,
   "id": "b2ffbb7c-015b-424a-a30e-c1f7e55a767e",
   "metadata": {},
   "outputs": [],
   "source": [
    "knn_probs = knn.predict_proba(np.asarray(tfidf_test))\n",
    "knn_preds = knn.predict(np.asarray(tfidf_test))"
   ]
  },
  {
   "cell_type": "markdown",
   "id": "8214455b-30a9-4866-9dea-e5acfbcf5b95",
   "metadata": {},
   "source": [
    "### Neural Network"
   ]
  },
  {
   "cell_type": "code",
   "execution_count": 15,
   "id": "25eaee3a-e2e4-4fc9-95bb-cbf4f938d770",
   "metadata": {},
   "outputs": [
    {
     "data": {
      "text/plain": [
       "MLPClassifier(early_stopping=True, hidden_layer_sizes=[256, 128, 64],\n",
       "              learning_rate='adaptive', n_iter_no_change=20, random_state=1000)"
      ]
     },
     "execution_count": 15,
     "metadata": {},
     "output_type": "execute_result"
    }
   ],
   "source": [
    "nn = MLPClassifier([256,128,64], early_stopping=True, n_iter_no_change=20, learning_rate='adaptive', random_state=rnd)\n",
    "nn.fit(np.asarray(tfidf_train),np.asarray(y_train))"
   ]
  },
  {
   "cell_type": "code",
   "execution_count": 16,
   "id": "6fdd96da-24b3-4997-b942-fdf9f7a3c666",
   "metadata": {},
   "outputs": [],
   "source": [
    "nn_probs = nn.predict_proba(np.asarray(tfidf_test))\n",
    "nn_preds = nn.predict(np.asarray(tfidf_test))"
   ]
  },
  {
   "cell_type": "markdown",
   "id": "ee3fa998-b7ee-4ed8-b5b5-b6f94544baf4",
   "metadata": {},
   "source": [
    "# ROC and Precision-Recall Curves\n",
    "Calculation of both curves for each algorithm. After that, the best threshold is calculated and indicated in a new chart in the ROC curves."
   ]
  },
  {
   "cell_type": "markdown",
   "id": "b8d2d83c-9ff4-4eff-87b8-531d4f7b5e60",
   "metadata": {},
   "source": [
    "### ROC curves"
   ]
  },
  {
   "cell_type": "code",
   "execution_count": 17,
   "id": "4b9f7237-7ed0-4092-81e8-bcbb80266942",
   "metadata": {},
   "outputs": [],
   "source": [
    "# Converts the test predictions into binary ones\n",
    "def convert_classes(y_test):\n",
    "    y_real = []\n",
    "    for pred in y_test:\n",
    "        if pred == \"None\":\n",
    "            y_real.append(0)\n",
    "        else:\n",
    "            y_real.append(1)\n",
    "    return y_real\n",
    "\n",
    "# Apart from plotting the correponding ROC curve, it returns the best threshold\n",
    "def plot_one_roc(y_real,probs,name, plot_best):\n",
    "    fpr, tpr, thresholds = roc_curve(y_real, [np.max(row) for row in probs])\n",
    "    roc_auc = auc(fpr, tpr)\n",
    "    \n",
    "    lw = 2\n",
    "    plt.plot(\n",
    "        fpr,\n",
    "        tpr,\n",
    "        # color=\"darkorange\",\n",
    "        lw=lw,\n",
    "        label=name + \" ROC curve (area = %0.3f)\" % roc_auc,\n",
    "    )\n",
    "    # Calculation of best threshold\n",
    "    argmax = np.argmax(tpr*(1-fpr))\n",
    "    threshold = thresholds[argmax]\n",
    "    print(\"Best threshold in \"+name+\": \"+str(threshold))\n",
    "    print(\"Best TPR in \"+name+\": \"+str(tpr[argmax]))\n",
    "    print(\"Best FPR in \"+name+\": \"+str(fpr[argmax]))\n",
    "    print()\n",
    "    \n",
    "    if plot_best:\n",
    "        plt.plot(fpr[argmax], tpr[argmax], color='red', marker=\"x\", markersize=10)\n",
    "    \n",
    "    return threshold\n",
    "\n",
    "# Plot both ROC curves: knn and neural network\n",
    "def plot_roc_curves(y_test, knn_probs, nn_probs, plot_best=False):\n",
    "    best_thres = {}\n",
    "    plt.figure()\n",
    "    \n",
    "    lw = 2\n",
    "    y_real = convert_classes(y_test)\n",
    "    \n",
    "    best_thres['knn'] = plot_one_roc(y_real,knn_probs,\"kNN\", plot_best)\n",
    "    best_thres['nn'] = plot_one_roc(y_real,nn_probs,\"Neural Net\", plot_best)\n",
    "    \n",
    "    plt.plot([0, 1], [0, 1], color=\"navy\", lw=lw, linestyle=\"--\")\n",
    "    plt.xlim([0.0, 1.0])\n",
    "    plt.ylim([0.0, 1.05])\n",
    "    plt.xlabel(\"False Positive Rate\")\n",
    "    plt.ylabel(\"True Positive Rate (Recall)\")\n",
    "    plt.title(\"ROC Curves\")\n",
    "    plt.legend(loc=\"lower right\")\n",
    "    plt.show()\n",
    "    \n",
    "    return best_thres"
   ]
  },
  {
   "cell_type": "code",
   "execution_count": 18,
   "id": "c0f19115-239f-4c8e-907c-300dfdb2e35f",
   "metadata": {},
   "outputs": [
    {
     "name": "stdout",
     "output_type": "stream",
     "text": [
      "Best threshold in kNN: 0.45681264933539256\n",
      "Best TPR in kNN: 0.6817248459958932\n",
      "Best FPR in kNN: 0.22137404580152673\n",
      "\n",
      "Best threshold in Neural Net: 0.8345786698074041\n",
      "Best TPR in Neural Net: 0.6139630390143738\n",
      "Best FPR in Neural Net: 0.03816793893129771\n",
      "\n"
     ]
    },
    {
     "data": {
      "image/png": "[encoded data removed]",
      "text/plain": [
       "<Figure size 432x288 with 1 Axes>"
      ]
     },
     "metadata": {
      "needs_background": "light"
     },
     "output_type": "display_data"
    }
   ],
   "source": [
    "best_thres = plot_roc_curves(y_test, knn_probs, nn_probs, plot_best=True)"
   ]
  },
  {
   "cell_type": "markdown",
   "id": "81082c34-6200-4b34-a279-f6d9c1635b87",
   "metadata": {},
   "source": [
    "### Precision-Recall curves"
   ]
  },
  {
   "cell_type": "code",
   "execution_count": 19,
   "id": "da724f6a-f505-4563-8cca-0d48d39c2fdd",
   "metadata": {},
   "outputs": [],
   "source": [
    "def plot_one_recprec(y_real,probs,name):\n",
    "    precision, recall, thresholds = precision_recall_curve(y_real, [np.max(row) for row in probs])\n",
    "    # Precision empieza en 1 en vez de en 0\n",
    "    lw = 2\n",
    "    plt.plot(\n",
    "        recall,\n",
    "        precision,\n",
    "        # color=\"darkorange\",\n",
    "        lw=lw,\n",
    "        label=name,\n",
    "    )\n",
    "\n",
    "# Plot both Precision-Recall curves: knn and neural network\n",
    "def plot_recprec_curves(y_test, knn_probs, nn_probs):\n",
    "    plt.figure()\n",
    "    \n",
    "    lw=2\n",
    "    y_real = convert_classes(y_test)\n",
    "    \n",
    "    plot_one_recprec(y_real,knn_probs,\"kNN\")\n",
    "    plot_one_recprec(y_real,nn_probs,\"Neural Net\")\n",
    "\n",
    "    # plt.xlim([0.0, 1.0])\n",
    "    # plt.ylim([0.0, 1.05])\n",
    "    plt.xlabel(\"Recall\")\n",
    "    plt.ylabel(\"Precision\")\n",
    "    plt.title(\"Precision-Recall Curves\")\n",
    "    plt.legend(loc=\"lower left\")\n",
    "    plt.show()\n"
   ]
  },
  {
   "cell_type": "code",
   "execution_count": 20,
   "id": "fab67d9d-2cd9-458f-a7f4-6d16f7b7abb6",
   "metadata": {},
   "outputs": [
    {
     "data": {
      "image/png": "[encoded data removed]",
      "text/plain": [
       "<Figure size 432x288 with 1 Axes>"
      ]
     },
     "metadata": {
      "needs_background": "light"
     },
     "output_type": "display_data"
    }
   ],
   "source": [
    "plot_recprec_curves(y_test, knn_probs, nn_probs)"
   ]
  },
  {
   "cell_type": "markdown",
   "id": "bf32e35b-1323-4929-919f-fe4324055f9a",
   "metadata": {
    "tags": []
   },
   "source": [
    "# Another metrics:\n",
    "* Selection of threshold for each algorithm\n",
    "* Charts with confusion matrices and their difference\n",
    "* Calculation of the rest of metrics:\n",
    "    - Accuracy\n",
    "    - Precision\n",
    "    - Recall\n",
    "    - F1-score"
   ]
  },
  {
   "cell_type": "code",
   "execution_count": 21,
   "id": "af66b4f4-e2ee-41fa-b0c2-36b6845798ee",
   "metadata": {},
   "outputs": [],
   "source": [
    "# The prediction remains only if the probability is higher than the threshold\n",
    "def apply_threshold(preds, probs, threshold):\n",
    "    new_preds = []\n",
    "    maxprob = np.array([np.max(row) for row in probs])\n",
    "    for pred,prob in zip(preds,maxprob):\n",
    "        if prob < threshold:\n",
    "            new_preds.append(\"None\")\n",
    "        else:\n",
    "            new_preds.append(pred)\n",
    "    return new_preds\n",
    "    \n",
    "knn_preds = apply_threshold(knn_preds,knn_probs, best_thres['knn'])"
   ]
  },
  {
   "cell_type": "code",
   "execution_count": 22,
   "id": "95ba7166-0395-4589-903d-ba258d7aa658",
   "metadata": {},
   "outputs": [],
   "source": [
    "nn_preds2 = apply_threshold(nn_preds, nn_probs, best_thres['nn'])"
   ]
  },
  {
   "cell_type": "code",
   "execution_count": 23,
   "id": "48f6a76d-228d-4241-9463-eaca8b8dab29",
   "metadata": {},
   "outputs": [
    {
     "data": {
      "image/png": "[encoded data removed]",
      "text/plain": [
       "<Figure size 432x288 with 2 Axes>"
      ]
     },
     "metadata": {
      "needs_background": "light"
     },
     "output_type": "display_data"
    }
   ],
   "source": [
    "# Confusion Matrix in kNN\n",
    "disp_knn = ConfusionMatrixDisplay.from_predictions(\n",
    "        y_test,\n",
    "        knn_preds,\n",
    "        cmap=plt.cm.Blues,\n",
    "    )"
   ]
  },
  {
   "cell_type": "code",
   "execution_count": 24,
   "id": "02472162-87f4-4776-8465-e37fd8917120",
   "metadata": {},
   "outputs": [
    {
     "data": {
      "image/png": "[encoded data removed]",
      "text/plain": [
       "<Figure size 432x288 with 2 Axes>"
      ]
     },
     "metadata": {
      "needs_background": "light"
     },
     "output_type": "display_data"
    }
   ],
   "source": [
    "# Confusion matrix in the Neural Network\n",
    "disp_nn = ConfusionMatrixDisplay.from_predictions(\n",
    "        y_test,\n",
    "        nn_preds2,\n",
    "        cmap=plt.cm.Blues,\n",
    "    )"
   ]
  },
  {
   "cell_type": "code",
   "execution_count": 25,
   "id": "0e251fa4-47cf-41bc-ab05-86809e8a6886",
   "metadata": {},
   "outputs": [
    {
     "data": {
      "text/plain": [
       "<sklearn.metrics._plot.confusion_matrix.ConfusionMatrixDisplay at 0x7fe6e6830940>"
      ]
     },
     "execution_count": 25,
     "metadata": {},
     "output_type": "execute_result"
    },
    {
     "data": {
      "image/png": "[encoded data removed]",
      "text/plain": [
       "<Figure size 432x288 with 2 Axes>"
      ]
     },
     "metadata": {
      "needs_background": "light"
     },
     "output_type": "display_data"
    }
   ],
   "source": [
    "# Difference between knn and nn\n",
    "ConfusionMatrixDisplay(disp_knn.confusion_matrix - disp_nn.confusion_matrix,\n",
    "                      display_labels=disp_knn.display_labels).plot(\n",
    "    cmap=plt.cm.coolwarm\n",
    "    )"
   ]
  },
  {
   "cell_type": "code",
   "execution_count": 26,
   "id": "33c29212-aac6-40d8-abfe-4d5670f2f90d",
   "metadata": {},
   "outputs": [
    {
     "name": "stdout",
     "output_type": "stream",
     "text": [
      "knn\n",
      "Accuracy: 0.5140271493212669\n",
      "Precision: 0.5240197158089845\n",
      "Recall: 0.6136663342187256\n",
      "F1-score: 0.5306470889560352\n",
      "nn\n",
      "Accuracy: 0.5592760180995475\n",
      "Precision: 0.5432899786574078\n",
      "Recall: 0.6348409727213836\n",
      "F1-score: 0.5105185101779603\n"
     ]
    }
   ],
   "source": [
    "# Summary of the rest of metrics\n",
    "def summary(y_pred, y_test):\n",
    "    print(\"Accuracy:\",str(accuracy_score(y_test,y_pred)))\n",
    "    print(\"Precision:\",str(precision_score(y_test,y_pred,average='macro',zero_division=1)))\n",
    "    print(\"Recall:\",str(recall_score(y_test,y_pred,average='macro',zero_division=1)))\n",
    "    print(\"F1-score:\",str(f1_score(y_test,y_pred,average='macro',zero_division=1)))\n",
    "print(\"knn\")\n",
    "summary(y_test,knn_preds)\n",
    "print(\"nn\")\n",
    "summary(y_test,nn_preds)"
   ]
  },
  {
   "cell_type": "markdown",
   "id": "3dee0611-b5a4-46bf-938a-c24177ccc139",
   "metadata": {},
   "source": [
    "# Simulation of recommendations"
   ]
  },
  {
   "cell_type": "code",
   "execution_count": 27,
   "id": "fb7e6fbe-28e8-4ff6-a19c-4e714868a153",
   "metadata": {},
   "outputs": [],
   "source": [
    "# Users have to specify which kind of documents are relevant to them\n",
    "dict_users = {1:['C06','C21','C12'],\n",
    "             2:['C20'],\n",
    "             3:['C21','C20'],\n",
    "             4:['C08','C10'],\n",
    "             5:['C12']}"
   ]
  },
  {
   "cell_type": "code",
   "execution_count": 28,
   "id": "84cc1e50-576a-4457-81de-3b05f864c5f3",
   "metadata": {},
   "outputs": [],
   "source": [
    "def recommend_text(algorithm, dict_users, snippet):\n",
    "    vector = tfidf.transform([preprocess_element(snippet)]).todense()\n",
    "    prediction = algorithm.predict(np.array(vector))[0]\n",
    "    print(\"Class of the text:\", prediction)\n",
    "    for user in dict_users.keys():\n",
    "        if prediction in dict_users[user]:\n",
    "            print('Sent to user', user)"
   ]
  },
  {
   "cell_type": "code",
   "execution_count": 29,
   "id": "e7f3c522-528d-4608-8d9a-322a79e02c2d",
   "metadata": {},
   "outputs": [
    {
     "name": "stdout",
     "output_type": "stream",
     "text": [
      "Class of the text: C10\n",
      "Sent to user 4\n"
     ]
    }
   ],
   "source": [
    "recommend_text(nn, dict_users, X_test.iloc[150])"
   ]
  }
 ],
 "metadata": {
  "kernelspec": {
   "display_name": "Python 3 (ipykernel)",
   "language": "python",
   "name": "python3"
  },
  "language_info": {
   "codemirror_mode": {
    "name": "ipython",
    "version": 3
   },
   "file_extension": ".py",
   "mimetype": "text/x-python",
   "name": "python",
   "nbconvert_exporter": "python",
   "pygments_lexer": "ipython3",
   "version": "3.8.10"
  }
 },
 "nbformat": 4,
 "nbformat_minor": 5
}
