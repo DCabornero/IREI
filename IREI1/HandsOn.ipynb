{
 "cells": [
  {
   "cell_type": "code",
   "execution_count": 113,
   "id": "48c72505-600c-499f-a5e8-ae958cbc733b",
   "metadata": {},
   "outputs": [
    {
     "name": "stderr",
     "output_type": "stream",
     "text": [
      "[nltk_data] Downloading collection 'popular'\n",
      "[nltk_data]    | \n",
      "[nltk_data]    | Downloading package cmudict to\n",
      "[nltk_data]    |     /home/dcabornero/nltk_data...\n",
      "[nltk_data]    |   Package cmudict is already up-to-date!\n",
      "[nltk_data]    | Downloading package gazetteers to\n",
      "[nltk_data]    |     /home/dcabornero/nltk_data...\n",
      "[nltk_data]    |   Package gazetteers is already up-to-date!\n",
      "[nltk_data]    | Downloading package genesis to\n",
      "[nltk_data]    |     /home/dcabornero/nltk_data...\n",
      "[nltk_data]    |   Package genesis is already up-to-date!\n",
      "[nltk_data]    | Downloading package gutenberg to\n",
      "[nltk_data]    |     /home/dcabornero/nltk_data...\n",
      "[nltk_data]    |   Package gutenberg is already up-to-date!\n",
      "[nltk_data]    | Downloading package inaugural to\n",
      "[nltk_data]    |     /home/dcabornero/nltk_data...\n",
      "[nltk_data]    |   Package inaugural is already up-to-date!\n",
      "[nltk_data]    | Downloading package movie_reviews to\n",
      "[nltk_data]    |     /home/dcabornero/nltk_data...\n",
      "[nltk_data]    |   Package movie_reviews is already up-to-date!\n",
      "[nltk_data]    | Downloading package names to\n",
      "[nltk_data]    |     /home/dcabornero/nltk_data...\n",
      "[nltk_data]    |   Package names is already up-to-date!\n",
      "[nltk_data]    | Downloading package shakespeare to\n",
      "[nltk_data]    |     /home/dcabornero/nltk_data...\n",
      "[nltk_data]    |   Package shakespeare is already up-to-date!\n",
      "[nltk_data]    | Downloading package stopwords to\n",
      "[nltk_data]    |     /home/dcabornero/nltk_data...\n",
      "[nltk_data]    |   Package stopwords is already up-to-date!\n",
      "[nltk_data]    | Downloading package treebank to\n",
      "[nltk_data]    |     /home/dcabornero/nltk_data...\n",
      "[nltk_data]    |   Package treebank is already up-to-date!\n",
      "[nltk_data]    | Downloading package twitter_samples to\n",
      "[nltk_data]    |     /home/dcabornero/nltk_data...\n",
      "[nltk_data]    |   Package twitter_samples is already up-to-date!\n",
      "[nltk_data]    | Downloading package omw to\n",
      "[nltk_data]    |     /home/dcabornero/nltk_data...\n",
      "[nltk_data]    |   Package omw is already up-to-date!\n",
      "[nltk_data]    | Downloading package omw-1.4 to\n",
      "[nltk_data]    |     /home/dcabornero/nltk_data...\n",
      "[nltk_data]    |   Package omw-1.4 is already up-to-date!\n",
      "[nltk_data]    | Downloading package wordnet to\n",
      "[nltk_data]    |     /home/dcabornero/nltk_data...\n",
      "[nltk_data]    |   Package wordnet is already up-to-date!\n",
      "[nltk_data]    | Downloading package wordnet2021 to\n",
      "[nltk_data]    |     /home/dcabornero/nltk_data...\n",
      "[nltk_data]    |   Package wordnet2021 is already up-to-date!\n",
      "[nltk_data]    | Downloading package wordnet31 to\n",
      "[nltk_data]    |     /home/dcabornero/nltk_data...\n",
      "[nltk_data]    |   Package wordnet31 is already up-to-date!\n",
      "[nltk_data]    | Downloading package wordnet_ic to\n",
      "[nltk_data]    |     /home/dcabornero/nltk_data...\n",
      "[nltk_data]    |   Package wordnet_ic is already up-to-date!\n",
      "[nltk_data]    | Downloading package words to\n",
      "[nltk_data]    |     /home/dcabornero/nltk_data...\n",
      "[nltk_data]    |   Package words is already up-to-date!\n",
      "[nltk_data]    | Downloading package maxent_ne_chunker to\n",
      "[nltk_data]    |     /home/dcabornero/nltk_data...\n",
      "[nltk_data]    |   Package maxent_ne_chunker is already up-to-date!\n",
      "[nltk_data]    | Downloading package punkt to\n",
      "[nltk_data]    |     /home/dcabornero/nltk_data...\n",
      "[nltk_data]    |   Package punkt is already up-to-date!\n",
      "[nltk_data]    | Downloading package snowball_data to\n",
      "[nltk_data]    |     /home/dcabornero/nltk_data...\n",
      "[nltk_data]    |   Package snowball_data is already up-to-date!\n",
      "[nltk_data]    | Downloading package averaged_perceptron_tagger to\n",
      "[nltk_data]    |     /home/dcabornero/nltk_data...\n",
      "[nltk_data]    |   Package averaged_perceptron_tagger is already up-\n",
      "[nltk_data]    |       to-date!\n",
      "[nltk_data]    | \n",
      "[nltk_data]  Done downloading collection popular\n"
     ]
    },
    {
     "data": {
      "text/plain": [
       "True"
      ]
     },
     "execution_count": 113,
     "metadata": {},
     "output_type": "execute_result"
    }
   ],
   "source": [
    "import pandas as pd\n",
    "import numpy as np\n",
    "import matplotlib.pyplot as plt\n",
    "import string as st\n",
    "import re\n",
    "from random import sample\n",
    "\n",
    "\n",
    "from os import listdir\n",
    "from os.path import isfile, join\n",
    "\n",
    "from sklearn.metrics.pairwise import cosine_similarity\n",
    "from sklearn.feature_extraction.text import TfidfVectorizer\n",
    "from sklearn.model_selection import train_test_split\n",
    "from sklearn.neighbors import KNeighborsClassifier\n",
    "from sklearn.neural_network import MLPClassifier\n",
    "from sklearn.metrics import roc_curve, auc, precision_recall_curve, ConfusionMatrixDisplay\n",
    "from sklearn.metrics import accuracy_score, f1_score, precision_score, recall_score\n",
    "\n",
    "from nltk import PorterStemmer, WordNetLemmatizer\n",
    "import nltk\n",
    "\n",
    "nltk.download('popular')"
   ]
  },
  {
   "cell_type": "markdown",
   "id": "e0d2cecb",
   "metadata": {},
   "source": [
    "# Reading dataset"
   ]
  },
  {
   "cell_type": "code",
   "execution_count": 2,
   "id": "8cd743f8-7bff-49ed-a5a2-279efe368f53",
   "metadata": {},
   "outputs": [
    {
     "name": "stdout",
     "output_type": "stream",
     "text": [
      "Class C13 : 281\n",
      "Class C10 : 621\n",
      "Class C15 : 215\n",
      "Class C06 : 588\n",
      "Class C16 : 200\n",
      "Class C12 : 491\n",
      "Class C22 : 92\n",
      "Class C05 : 283\n",
      "Class C14 : 1249\n",
      "Class C01 : 423\n",
      "Class C07 : 100\n",
      "Class C17 : 295\n",
      "Class C23 : 1799\n",
      "Class C08 : 473\n",
      "Class C19 : 191\n",
      "Class C18 : 388\n",
      "Class C20 : 525\n",
      "Class C04 : 1163\n",
      "Class C03 : 65\n",
      "Class C11 : 162\n",
      "Class C02 : 158\n",
      "Class C21 : 546\n",
      "Class C09 : 125\n"
     ]
    }
   ],
   "source": [
    "mypath = \"data/ohsumed/training\"\n",
    "folders = [join(mypath, f) for f in listdir(mypath)]\n",
    "\n",
    "for fol in folders:\n",
    "    files = [join(fol, f) for f in listdir(fol) if isfile(join(fol, f))]\n",
    "    count = 0\n",
    "    for i,name in enumerate(files):\n",
    "        count += 1\n",
    "    print(\"Class\", fol.split('/')[-1],':',count)\n",
    "    \n",
    "chosen_classes = ['C06','C08','C10','C12','C20','C21']"
   ]
  },
  {
   "cell_type": "code",
   "execution_count": 3,
   "id": "035a9bcd",
   "metadata": {},
   "outputs": [],
   "source": [
    "dataset_list = []\n",
    "class_list = []\n",
    "\n",
    "for clase in chosen_classes:\n",
    "    fol = join(mypath,clase)\n",
    "    files = [join(fol, f) for f in listdir(fol) if isfile(join(fol, f))]\n",
    "    for name in files:\n",
    "        with open(name,'r',encoding = \"ISO-8859-1\") as file:\n",
    "            content = file.read()\n",
    "            dataset_list.append(content)\n",
    "            class_list.append(clase)\n",
    "            \n",
    "df = pd.DataFrame({\"text\":dataset_list, \"category\":class_list})"
   ]
  },
  {
   "cell_type": "code",
   "execution_count": 4,
   "id": "f23fb921-ddd5-4ffb-a6fd-c7a3f4114209",
   "metadata": {},
   "outputs": [],
   "source": [
    "dataset_list = []\n",
    "\n",
    "fol = 'data/reuters/training/dlr'\n",
    "files = [join(fol, f) for f in listdir(fol) if isfile(join(fol, f))]\n",
    "for name in files:\n",
    "    with open(name,'r',encoding = \"ISO-8859-1\") as file:\n",
    "        content = file.read()\n",
    "        dataset_list.append(content)\n",
    "            \n",
    "df_control = pd.DataFrame({\"text\":dataset_list, \"category\":['None']*len(dataset_list)})"
   ]
  },
  {
   "cell_type": "code",
   "execution_count": 5,
   "id": "e67f9bd6-2eba-44b7-a1bd-45ccdf1186e4",
   "metadata": {},
   "outputs": [
    {
     "name": "stdout",
     "output_type": "stream",
     "text": [
      "3244 131\n"
     ]
    }
   ],
   "source": [
    "print(len(df),len(df_control))"
   ]
  },
  {
   "cell_type": "markdown",
   "id": "cc8ff15d-3aed-41c4-8507-b6daaeede268",
   "metadata": {},
   "source": [
    "# Preprocessing of data"
   ]
  },
  {
   "cell_type": "code",
   "execution_count": 6,
   "id": "3da1eedb-c933-4cdb-b6a1-167e40af961e",
   "metadata": {},
   "outputs": [
    {
     "name": "stdout",
     "output_type": "stream",
     "text": [
      "film featured character popeye doyle\n"
     ]
    }
   ],
   "source": [
    "def remove_punct(text):\n",
    "    return (\"\".join([ch for ch in text if ch not in st.punctuation]))\n",
    "\n",
    "def tokenize(text):\n",
    "    text = re.split('\\s+' ,text)\n",
    "    return [x.lower() for x in text]\n",
    "\n",
    "def remove_small_words(text):\n",
    "    return [x for x in text if len(x) > 4 ]\n",
    "\n",
    "def remove_stopwords(text):\n",
    "    # forbidden = ['what', 'which', 'who', 'when', 'why', 'where', 'how', 'many', 'much']\n",
    "    # stopwords = [x for x in nltk.corpus.stopwords.words('english') if x not in forbidden]\n",
    "    return [word for word in text if word not in nltk.corpus.stopwords.words('english')]\n",
    "\n",
    "def lemmatize(text):\n",
    "    word_net = WordNetLemmatizer()\n",
    "    return [word_net.lemmatize(word) for word in text]\n",
    "\n",
    "def return_sentences(tokens):\n",
    "    return \" \".join([word for word in tokens])\n",
    "\n",
    "def preprocess_element(text):\n",
    "    return return_sentences(lemmatize(remove_stopwords(remove_small_words(tokenize(remove_punct(text))))))\n",
    "\n",
    "print(preprocess_element(\"What films featured the character Popeye Doyle ?\"))"
   ]
  },
  {
   "cell_type": "code",
   "execution_count": 7,
   "id": "2833c925-7fa2-4aa6-95fc-8ba450671dfb",
   "metadata": {},
   "outputs": [],
   "source": [
    "df['text'] = df['text'].apply(lambda x: preprocess_element(x))\n",
    "df_control['text'] = df_control['text'].apply(lambda x: preprocess_element(x))\n",
    "\n",
    "X_train, X_test, y_train, y_test = train_test_split(df['text'],df['category'],train_size=0.7)\n",
    "X_test = pd.concat([X_test,df_control['text']])\n",
    "y_test = pd.concat([y_test,df_control['category']])\n",
    "\n",
    "classes = np.unique(y_train)"
   ]
  },
  {
   "cell_type": "code",
   "execution_count": 8,
   "id": "96a7349c-857a-46d9-96fc-6faeb063c110",
   "metadata": {},
   "outputs": [],
   "source": [
    "tfidf = TfidfVectorizer()\n",
    "tfidf_train = tfidf.fit_transform(X_train.to_numpy()).todense()\n",
    "tfidf_test = tfidf.transform(X_test.to_numpy()).todense()\n",
    "\n",
    "\n",
    "# sim = cosine_similarity(tfidf_vect)\n"
   ]
  },
  {
   "cell_type": "code",
   "execution_count": 9,
   "id": "ce0ce652-d9c5-4e4d-812f-8a945fde6922",
   "metadata": {},
   "outputs": [
    {
     "name": "stdout",
     "output_type": "stream",
     "text": [
      "(2270, 16147)\n"
     ]
    }
   ],
   "source": [
    "print(np.shape(tfidf_train))"
   ]
  },
  {
   "cell_type": "markdown",
   "id": "e27cec8d-b909-4e88-8e1d-85aca94a666c",
   "metadata": {},
   "source": [
    "# kNN"
   ]
  },
  {
   "cell_type": "code",
   "execution_count": 10,
   "id": "97e729e6-2732-4720-8bf2-6039cb1ff237",
   "metadata": {},
   "outputs": [],
   "source": [
    "knn = KNeighborsClassifier(n_neighbors=15, metric = lambda x,y: 1-np.dot(x,y), weights=lambda x: 1-x)\n",
    "\n",
    "knn.fit(np.asarray(tfidf_train),np.asarray(y_train))\n",
    "preds = knn.predict(np.asarray(tfidf_test))\n"
   ]
  },
  {
   "cell_type": "code",
   "execution_count": 11,
   "id": "b2ffbb7c-015b-424a-a30e-c1f7e55a767e",
   "metadata": {},
   "outputs": [],
   "source": [
    "knn_probs = knn.predict_proba(np.asarray(tfidf_test))\n",
    "knn_preds = knn.predict(np.asarray(tfidf_test))"
   ]
  },
  {
   "cell_type": "markdown",
   "id": "8214455b-30a9-4866-9dea-e5acfbcf5b95",
   "metadata": {},
   "source": [
    "# Neural Networks"
   ]
  },
  {
   "cell_type": "code",
   "execution_count": 12,
   "id": "25eaee3a-e2e4-4fc9-95bb-cbf4f938d770",
   "metadata": {},
   "outputs": [
    {
     "data": {
      "text/plain": [
       "MLPClassifier(early_stopping=True, hidden_layer_sizes=[256, 128, 64],\n",
       "              learning_rate='adaptive', n_iter_no_change=20)"
      ]
     },
     "execution_count": 12,
     "metadata": {},
     "output_type": "execute_result"
    }
   ],
   "source": [
    "nn = MLPClassifier([256,128,64], early_stopping=True, n_iter_no_change=20, learning_rate='adaptive')\n",
    "nn.fit(np.asarray(tfidf_train),np.asarray(y_train))"
   ]
  },
  {
   "cell_type": "code",
   "execution_count": 75,
   "id": "6fdd96da-24b3-4997-b942-fdf9f7a3c666",
   "metadata": {},
   "outputs": [],
   "source": [
    "nn_probs = nn.predict_proba(np.asarray(tfidf_test))\n",
    "nn_preds = nn.predict(np.asarray(tfidf_test))"
   ]
  },
  {
   "cell_type": "markdown",
   "id": "ee3fa998-b7ee-4ed8-b5b5-b6f94544baf4",
   "metadata": {},
   "source": [
    "# ROC and Precision-Recall Curves"
   ]
  },
  {
   "cell_type": "code",
   "execution_count": 14,
   "id": "4b9f7237-7ed0-4092-81e8-bcbb80266942",
   "metadata": {},
   "outputs": [],
   "source": [
    "# Converts the test predictions into binary ones\n",
    "def convert_classes(y_test):\n",
    "    y_real = []\n",
    "    for pred in y_test:\n",
    "        if pred == \"None\":\n",
    "            y_real.append(0)\n",
    "        else:\n",
    "            y_real.append(1)\n",
    "    return y_real\n",
    "\n",
    "# Apart from plotting the correponding ROC curve, it returns the best threshold\n",
    "def plot_one_roc(y_real,probs,name):\n",
    "    fpr, tpr, thresholds = roc_curve(y_real, [np.max(row) for row in probs])\n",
    "    roc_auc = auc(fpr, tpr)\n",
    "    \n",
    "    lw = 2\n",
    "    plt.plot(\n",
    "        fpr,\n",
    "        tpr,\n",
    "        # color=\"darkorange\",\n",
    "        lw=lw,\n",
    "        label=name + \" ROC curve (area = %0.2f)\" % roc_auc,\n",
    "    )\n",
    "    # Calculation of best threshold\n",
    "    argmax = np.argmax(tpr*(1-fpr))\n",
    "    print(\"Best threshold in \"+name+\": \"+str(thresholds[argmax]))\n",
    "    print(\"Best TPR in \"+name+\": \"+str(tpr[argmax]))\n",
    "    print(\"Best FPR in \"+name+\": \"+str(fpr[argmax]))\n",
    "    print()\n",
    "    return thresholds[argmax]\n",
    "\n",
    "# Plot both ROC curves: knn and neural network\n",
    "def plot_roc_curves(y_test, knn_probs, nn_probs):\n",
    "    best_thres = {}\n",
    "    plt.figure()\n",
    "    \n",
    "    lw = 2\n",
    "    y_real = convert_classes(y_test)\n",
    "    \n",
    "    best_thres['knn'] = plot_one_roc(y_real,knn_probs,\"kNN\")\n",
    "    best_thres['nn'] = plot_one_roc(y_real,nn_probs,\"Neural Net\")\n",
    "    \n",
    "    plt.plot([0, 1], [0, 1], color=\"navy\", lw=lw, linestyle=\"--\")\n",
    "    plt.xlim([0.0, 1.0])\n",
    "    plt.ylim([0.0, 1.05])\n",
    "    plt.xlabel(\"False Positive Rate\")\n",
    "    plt.ylabel(\"True Positive Rate (Recall)\")\n",
    "    plt.title(\"ROC Curves\")\n",
    "    plt.legend(loc=\"lower right\")\n",
    "    plt.show()\n",
    "    \n",
    "    return best_thres"
   ]
  },
  {
   "cell_type": "code",
   "execution_count": 15,
   "id": "c0f19115-239f-4c8e-907c-300dfdb2e35f",
   "metadata": {},
   "outputs": [
    {
     "name": "stdout",
     "output_type": "stream",
     "text": [
      "Best threshold in kNN: 0.40911473876392024\n",
      "Best TPR in kNN: 0.7782340862422998\n",
      "Best FPR in kNN: 0.21374045801526717\n",
      "\n",
      "Best threshold in Neural Net: 0.8210679350296782\n",
      "Best TPR in Neural Net: 0.5636550308008214\n",
      "Best FPR in Neural Net: 0.08396946564885496\n",
      "\n"
     ]
    },
    {
     "data": {
      "image/png": "[encoded data removed]",
      "text/plain": [
       "<Figure size 432x288 with 1 Axes>"
      ]
     },
     "metadata": {
      "needs_background": "light"
     },
     "output_type": "display_data"
    }
   ],
   "source": [
    "best_thres = plot_roc_curves(y_test, knn_probs, nn_probs)"
   ]
  },
  {
   "cell_type": "code",
   "execution_count": 16,
   "id": "da724f6a-f505-4563-8cca-0d48d39c2fdd",
   "metadata": {},
   "outputs": [],
   "source": [
    "def plot_one_recprec(y_real,probs,name):\n",
    "    precision, recall, thresholds = precision_recall_curve(y_real, [np.max(row) for row in probs])\n",
    "    # Precision empieza en 1 en vez de en 0\n",
    "    lw = 2\n",
    "    plt.plot(\n",
    "        recall,\n",
    "        precision,\n",
    "        # color=\"darkorange\",\n",
    "        lw=lw,\n",
    "        label=name,\n",
    "    )\n",
    "\n",
    "# Plot both Precision-Recall curves: knn and neural network\n",
    "def plot_recprec_curves(y_test, knn_probs, nn_probs):\n",
    "    plt.figure()\n",
    "    \n",
    "    lw=2\n",
    "    y_real = convert_classes(y_test)\n",
    "    \n",
    "    plot_one_recprec(y_real,knn_probs,\"kNN\")\n",
    "    plot_one_recprec(y_real,nn_probs,\"Neural Net\")\n",
    "\n",
    "    # plt.xlim([0.0, 1.0])\n",
    "    # plt.ylim([0.0, 1.05])\n",
    "    plt.xlabel(\"Recall\")\n",
    "    plt.ylabel(\"Precision\")\n",
    "    plt.title(\"Precision-Recall Curves\")\n",
    "    plt.legend(loc=\"lower left\")\n",
    "    plt.show()\n"
   ]
  },
  {
   "cell_type": "code",
   "execution_count": 17,
   "id": "fab67d9d-2cd9-458f-a7f4-6d16f7b7abb6",
   "metadata": {},
   "outputs": [
    {
     "data": {
      "image/png": "[encoded data removed]",
      "text/plain": [
       "<Figure size 432x288 with 1 Axes>"
      ]
     },
     "metadata": {
      "needs_background": "light"
     },
     "output_type": "display_data"
    }
   ],
   "source": [
    "plot_recprec_curves(y_test, knn_probs, nn_probs)"
   ]
  },
  {
   "cell_type": "markdown",
   "id": "bf32e35b-1323-4929-919f-fe4324055f9a",
   "metadata": {
    "tags": []
   },
   "source": [
    "# Another metrics\n",
    "Threshold selection:\n",
    "* kNN: 0.424\n",
    "* Neural Network: 0.464"
   ]
  },
  {
   "cell_type": "code",
   "execution_count": 109,
   "id": "af66b4f4-e2ee-41fa-b0c2-36b6845798ee",
   "metadata": {},
   "outputs": [],
   "source": [
    "# The prediction remains only if the probability is higher than the threshold\n",
    "def apply_threshold(preds, probs, threshold):\n",
    "    new_preds = []\n",
    "    maxprob = np.array([np.max(row) for row in probs])\n",
    "    for pred,prob in zip(preds,maxprob):\n",
    "        if prob < threshold:\n",
    "            new_preds.append(\"None\")\n",
    "        else:\n",
    "            new_preds.append(pred)\n",
    "    return new_preds\n",
    "    \n",
    "knn_preds = apply_threshold(knn_preds,knn_probs, best_thres['knn'])"
   ]
  },
  {
   "cell_type": "code",
   "execution_count": 110,
   "id": "95ba7166-0395-4589-903d-ba258d7aa658",
   "metadata": {},
   "outputs": [],
   "source": [
    "nn_preds2 = apply_threshold(nn_preds, nn_probs, best_thres['nn'])"
   ]
  },
  {
   "cell_type": "code",
   "execution_count": 111,
   "id": "48f6a76d-228d-4241-9463-eaca8b8dab29",
   "metadata": {},
   "outputs": [
    {
     "data": {
      "image/png": "[encoded data removed]",
      "text/plain": [
       "<Figure size 432x288 with 2 Axes>"
      ]
     },
     "metadata": {
      "needs_background": "light"
     },
     "output_type": "display_data"
    }
   ],
   "source": [
    "disp = ConfusionMatrixDisplay.from_predictions(\n",
    "        y_test,\n",
    "        knn_preds,\n",
    "        cmap=plt.cm.Blues,\n",
    "    )"
   ]
  },
  {
   "cell_type": "code",
   "execution_count": 112,
   "id": "02472162-87f4-4776-8465-e37fd8917120",
   "metadata": {},
   "outputs": [
    {
     "data": {
      "image/png": "[encoded data removed]",
      "text/plain": [
       "<Figure size 432x288 with 2 Axes>"
      ]
     },
     "metadata": {
      "needs_background": "light"
     },
     "output_type": "display_data"
    }
   ],
   "source": [
    "disp = ConfusionMatrixDisplay.from_predictions(\n",
    "        y_test,\n",
    "        nn_preds2,\n",
    "        cmap=plt.cm.Blues,\n",
    "    )"
   ]
  },
  {
   "cell_type": "code",
   "execution_count": 118,
   "id": "33c29212-aac6-40d8-abfe-4d5670f2f90d",
   "metadata": {},
   "outputs": [
    {
     "name": "stdout",
     "output_type": "stream",
     "text": [
      "knn\n",
      "Accuracy: 0.5656108597285068\n",
      "Precision: 0.5719843933130893\n",
      "Recall: 0.6105568957115601\n",
      "F1-score: 0.5691574412804788\n",
      "nn\n",
      "Accuracy: 0.3221719457013575\n",
      "Precision: 0.2680925498763113\n",
      "Recall: 0.4673322925060435\n",
      "F1-score: 0.33903681682541903\n"
     ]
    },
    {
     "name": "stderr",
     "output_type": "stream",
     "text": [
      "/home/dcabornero/.local/lib/python3.8/site-packages/sklearn/metrics/_classification.py:1318: UndefinedMetricWarning: Precision is ill-defined and being set to 0.0 in labels with no predicted samples. Use `zero_division` parameter to control this behavior.\n",
      "  _warn_prf(average, modifier, msg_start, len(result))\n",
      "/home/dcabornero/.local/lib/python3.8/site-packages/sklearn/metrics/_classification.py:1318: UndefinedMetricWarning: Recall is ill-defined and being set to 0.0 in labels with no true samples. Use `zero_division` parameter to control this behavior.\n",
      "  _warn_prf(average, modifier, msg_start, len(result))\n"
     ]
    }
   ],
   "source": [
    "def summary(y_pred, y_test):\n",
    "    print(\"Accuracy:\",str(accuracy_score(y_test,y_pred)))\n",
    "    print(\"Precision:\",str(precision_score(y_test,y_pred,average='macro')))\n",
    "    print(\"Recall:\",str(recall_score(y_test,y_pred,average='macro')))\n",
    "    print(\"F1-score:\",str(f1_score(y_test,y_pred,average='macro')))\n",
    "print(\"knn\")\n",
    "summary(y_test,knn_preds)\n",
    "print(\"nn\")\n",
    "summary(y_test,nn_preds)"
   ]
  }
 ],
 "metadata": {
  "kernelspec": {
   "display_name": "Python 3 (ipykernel)",
   "language": "python",
   "name": "python3"
  },
  "language_info": {
   "codemirror_mode": {
    "name": "ipython",
    "version": 3
   },
   "file_extension": ".py",
   "mimetype": "text/x-python",
   "name": "python",
   "nbconvert_exporter": "python",
   "pygments_lexer": "ipython3",
   "version": "3.8.10"
  }
 },
 "nbformat": 4,
 "nbformat_minor": 5
}
