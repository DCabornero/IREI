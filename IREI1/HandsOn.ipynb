{
 "cells": [
  {
   "cell_type": "code",
   "execution_count": 2,
   "id": "48c72505-600c-499f-a5e8-ae958cbc733b",
   "metadata": {},
   "outputs": [
    {
     "name": "stderr",
     "output_type": "stream",
     "text": [
      "[nltk_data] Downloading collection 'popular'\n",
      "[nltk_data]    | \n",
      "[nltk_data]    | Downloading package cmudict to\n",
      "[nltk_data]    |     /home/dcabornero/nltk_data...\n",
      "[nltk_data]    |   Package cmudict is already up-to-date!\n",
      "[nltk_data]    | Downloading package gazetteers to\n",
      "[nltk_data]    |     /home/dcabornero/nltk_data...\n",
      "[nltk_data]    |   Package gazetteers is already up-to-date!\n",
      "[nltk_data]    | Downloading package genesis to\n",
      "[nltk_data]    |     /home/dcabornero/nltk_data...\n",
      "[nltk_data]    |   Package genesis is already up-to-date!\n",
      "[nltk_data]    | Downloading package gutenberg to\n",
      "[nltk_data]    |     /home/dcabornero/nltk_data...\n",
      "[nltk_data]    |   Package gutenberg is already up-to-date!\n",
      "[nltk_data]    | Downloading package inaugural to\n",
      "[nltk_data]    |     /home/dcabornero/nltk_data...\n",
      "[nltk_data]    |   Package inaugural is already up-to-date!\n",
      "[nltk_data]    | Downloading package movie_reviews to\n",
      "[nltk_data]    |     /home/dcabornero/nltk_data...\n",
      "[nltk_data]    |   Package movie_reviews is already up-to-date!\n",
      "[nltk_data]    | Downloading package names to\n",
      "[nltk_data]    |     /home/dcabornero/nltk_data...\n",
      "[nltk_data]    |   Package names is already up-to-date!\n",
      "[nltk_data]    | Downloading package shakespeare to\n",
      "[nltk_data]    |     /home/dcabornero/nltk_data...\n",
      "[nltk_data]    |   Package shakespeare is already up-to-date!\n",
      "[nltk_data]    | Downloading package stopwords to\n",
      "[nltk_data]    |     /home/dcabornero/nltk_data...\n",
      "[nltk_data]    |   Package stopwords is already up-to-date!\n",
      "[nltk_data]    | Downloading package treebank to\n",
      "[nltk_data]    |     /home/dcabornero/nltk_data...\n",
      "[nltk_data]    |   Package treebank is already up-to-date!\n",
      "[nltk_data]    | Downloading package twitter_samples to\n",
      "[nltk_data]    |     /home/dcabornero/nltk_data...\n",
      "[nltk_data]    |   Package twitter_samples is already up-to-date!\n",
      "[nltk_data]    | Downloading package omw to\n",
      "[nltk_data]    |     /home/dcabornero/nltk_data...\n",
      "[nltk_data]    |   Package omw is already up-to-date!\n",
      "[nltk_data]    | Downloading package omw-1.4 to\n",
      "[nltk_data]    |     /home/dcabornero/nltk_data...\n",
      "[nltk_data]    |   Package omw-1.4 is already up-to-date!\n",
      "[nltk_data]    | Downloading package wordnet to\n",
      "[nltk_data]    |     /home/dcabornero/nltk_data...\n",
      "[nltk_data]    |   Package wordnet is already up-to-date!\n",
      "[nltk_data]    | Downloading package wordnet2021 to\n",
      "[nltk_data]    |     /home/dcabornero/nltk_data...\n",
      "[nltk_data]    |   Package wordnet2021 is already up-to-date!\n",
      "[nltk_data]    | Downloading package wordnet31 to\n",
      "[nltk_data]    |     /home/dcabornero/nltk_data...\n",
      "[nltk_data]    |   Package wordnet31 is already up-to-date!\n",
      "[nltk_data]    | Downloading package wordnet_ic to\n",
      "[nltk_data]    |     /home/dcabornero/nltk_data...\n",
      "[nltk_data]    |   Package wordnet_ic is already up-to-date!\n",
      "[nltk_data]    | Downloading package words to\n",
      "[nltk_data]    |     /home/dcabornero/nltk_data...\n",
      "[nltk_data]    |   Package words is already up-to-date!\n",
      "[nltk_data]    | Downloading package maxent_ne_chunker to\n",
      "[nltk_data]    |     /home/dcabornero/nltk_data...\n",
      "[nltk_data]    |   Package maxent_ne_chunker is already up-to-date!\n",
      "[nltk_data]    | Downloading package punkt to\n",
      "[nltk_data]    |     /home/dcabornero/nltk_data...\n",
      "[nltk_data]    |   Package punkt is already up-to-date!\n",
      "[nltk_data]    | Downloading package snowball_data to\n",
      "[nltk_data]    |     /home/dcabornero/nltk_data...\n",
      "[nltk_data]    |   Package snowball_data is already up-to-date!\n",
      "[nltk_data]    | Downloading package averaged_perceptron_tagger to\n",
      "[nltk_data]    |     /home/dcabornero/nltk_data...\n",
      "[nltk_data]    |   Package averaged_perceptron_tagger is already up-\n",
      "[nltk_data]    |       to-date!\n",
      "[nltk_data]    | \n",
      "[nltk_data]  Done downloading collection popular\n"
     ]
    },
    {
     "data": {
      "text/plain": [
       "True"
      ]
     },
     "execution_count": 2,
     "metadata": {},
     "output_type": "execute_result"
    }
   ],
   "source": [
    "import pandas as pd\n",
    "import numpy as np\n",
    "import matplotlib.pyplot as plt\n",
    "import string as st\n",
    "import re\n",
    "from random import sample\n",
    "\n",
    "\n",
    "from os import listdir\n",
    "from os.path import isfile, join\n",
    "\n",
    "from sklearn.metrics.pairwise import cosine_similarity\n",
    "from sklearn.feature_extraction.text import TfidfVectorizer\n",
    "from sklearn.model_selection import train_test_split\n",
    "from sklearn.neighbors import KNeighborsClassifier\n",
    "from sklearn.neural_network import MLPClassifier\n",
    "from sklearn.metrics import roc_curve, auc, precision_recall_curve\n",
    "\n",
    "from nltk import PorterStemmer, WordNetLemmatizer\n",
    "import nltk\n",
    "\n",
    "nltk.download('popular')"
   ]
  },
  {
   "cell_type": "markdown",
   "id": "266df2c4-6485-4ca9-bf41-926ad91d0575",
   "metadata": {},
   "source": [
    "# Read the dataset"
   ]
  },
  {
   "cell_type": "code",
   "execution_count": 2,
   "id": "c6321984-fd09-4aeb-8da5-c00283a2edda",
   "metadata": {},
   "outputs": [
    {
     "data": {
      "text/html": [
       "<div>\n",
       "<style scoped>\n",
       "    .dataframe tbody tr th:only-of-type {\n",
       "        vertical-align: middle;\n",
       "    }\n",
       "\n",
       "    .dataframe tbody tr th {\n",
       "        vertical-align: top;\n",
       "    }\n",
       "\n",
       "    .dataframe thead th {\n",
       "        text-align: right;\n",
       "    }\n",
       "</style>\n",
       "<table border=\"1\" class=\"dataframe\">\n",
       "  <thead>\n",
       "    <tr style=\"text-align: right;\">\n",
       "      <th></th>\n",
       "      <th>text</th>\n",
       "      <th>category</th>\n",
       "    </tr>\n",
       "  </thead>\n",
       "  <tbody>\n",
       "    <tr>\n",
       "      <th>0</th>\n",
       "      <td>How did serfdom develop in and then leave Russ...</td>\n",
       "      <td>DESC</td>\n",
       "    </tr>\n",
       "    <tr>\n",
       "      <th>1</th>\n",
       "      <td>What films featured the character Popeye Doyle ?</td>\n",
       "      <td>ENTY</td>\n",
       "    </tr>\n",
       "    <tr>\n",
       "      <th>2</th>\n",
       "      <td>How can I find a list of celebrities ' real na...</td>\n",
       "      <td>DESC</td>\n",
       "    </tr>\n",
       "    <tr>\n",
       "      <th>3</th>\n",
       "      <td>What fowl grabs the spotlight after the Chines...</td>\n",
       "      <td>ENTY</td>\n",
       "    </tr>\n",
       "    <tr>\n",
       "      <th>4</th>\n",
       "      <td>What is the full form of .com ?</td>\n",
       "      <td>ABBR</td>\n",
       "    </tr>\n",
       "  </tbody>\n",
       "</table>\n",
       "</div>"
      ],
      "text/plain": [
       "                                                text category\n",
       "0  How did serfdom develop in and then leave Russ...     DESC\n",
       "1   What films featured the character Popeye Doyle ?     ENTY\n",
       "2  How can I find a list of celebrities ' real na...     DESC\n",
       "3  What fowl grabs the spotlight after the Chines...     ENTY\n",
       "4                    What is the full form of .com ?     ABBR"
      ]
     },
     "execution_count": 2,
     "metadata": {},
     "output_type": "execute_result"
    }
   ],
   "source": [
    "with open('data/train_5500.txt','r',encoding = \"ISO-8859-1\") as file:\n",
    "    matrix = []\n",
    "    content = file.readlines()\n",
    "    for line in content:\n",
    "        aux = []\n",
    "        words = line.split()\n",
    "        aux.append(\" \".join(words[1:]))\n",
    "        aux.append(words[0].split(':')[0])\n",
    "        matrix.append(aux)\n",
    "        \n",
    "df = pd.DataFrame(matrix, columns=['text','category'])\n",
    "df.head()"
   ]
  },
  {
   "cell_type": "code",
   "execution_count": 4,
   "id": "8713cc13",
   "metadata": {},
   "outputs": [
    {
     "data": {
      "text/plain": [
       "(array(['ABBR', 'DESC', 'ENTY', 'HUM', 'LOC', 'NUM'], dtype=object),\n",
       " array([  86, 1162, 1250, 1223,  835,  896]))"
      ]
     },
     "execution_count": 4,
     "metadata": {},
     "output_type": "execute_result"
    }
   ],
   "source": [
    "np.unique(df['category'],return_counts=True)"
   ]
  },
  {
   "cell_type": "markdown",
   "id": "e0d2cecb",
   "metadata": {},
   "source": [
    "# Reading dataset"
   ]
  },
  {
   "cell_type": "code",
   "execution_count": 3,
   "id": "8cd743f8-7bff-49ed-a5a2-279efe368f53",
   "metadata": {},
   "outputs": [
    {
     "name": "stdout",
     "output_type": "stream",
     "text": [
      "Class C13 : 281\n",
      "Class C10 : 621\n",
      "Class C15 : 215\n",
      "Class C06 : 588\n",
      "Class C16 : 200\n",
      "Class C12 : 491\n",
      "Class C22 : 92\n",
      "Class C05 : 283\n",
      "Class C14 : 1249\n",
      "Class C01 : 423\n",
      "Class C07 : 100\n",
      "Class C17 : 295\n",
      "Class C23 : 1799\n",
      "Class C08 : 473\n",
      "Class C19 : 191\n",
      "Class C18 : 388\n",
      "Class C20 : 525\n",
      "Class C04 : 1163\n",
      "Class C03 : 65\n",
      "Class C11 : 162\n",
      "Class C02 : 158\n",
      "Class C21 : 546\n",
      "Class C09 : 125\n"
     ]
    }
   ],
   "source": [
    "mypath = \"data/ohsumed/training\"\n",
    "folders = [join(mypath, f) for f in listdir(mypath)]\n",
    "\n",
    "for fol in folders:\n",
    "    files = [join(fol, f) for f in listdir(fol) if isfile(join(fol, f))]\n",
    "    count = 0\n",
    "    for i,name in enumerate(files):\n",
    "        count += 1\n",
    "    print(\"Class\", fol.split('/')[-1],':',count)\n",
    "    \n",
    "chosen_classes = ['C06','C08','C10','C12','C20','C21']"
   ]
  },
  {
   "cell_type": "code",
   "execution_count": 4,
   "id": "035a9bcd",
   "metadata": {},
   "outputs": [],
   "source": [
    "dataset_list = []\n",
    "class_list = []\n",
    "\n",
    "for clase in chosen_classes:\n",
    "    fol = join(mypath,clase)\n",
    "    files = [join(fol, f) for f in listdir(fol) if isfile(join(fol, f))]\n",
    "    for name in files:\n",
    "        with open(name,'r',encoding = \"ISO-8859-1\") as file:\n",
    "            content = file.read()\n",
    "            dataset_list.append(content)\n",
    "            class_list.append(clase)\n",
    "            \n",
    "df = pd.DataFrame({\"text\":dataset_list, \"category\":class_list})"
   ]
  },
  {
   "cell_type": "code",
   "execution_count": 5,
   "id": "f23fb921-ddd5-4ffb-a6fd-c7a3f4114209",
   "metadata": {},
   "outputs": [],
   "source": [
    "dataset_list = []\n",
    "\n",
    "fol = 'data/reuters/training/dlr'\n",
    "files = [join(fol, f) for f in listdir(fol) if isfile(join(fol, f))]\n",
    "for name in files:\n",
    "    with open(name,'r',encoding = \"ISO-8859-1\") as file:\n",
    "        content = file.read()\n",
    "        dataset_list.append(content)\n",
    "            \n",
    "df_control = pd.DataFrame({\"text\":dataset_list, \"category\":['None']*len(dataset_list)})"
   ]
  },
  {
   "cell_type": "code",
   "execution_count": 6,
   "id": "e67f9bd6-2eba-44b7-a1bd-45ccdf1186e4",
   "metadata": {},
   "outputs": [
    {
     "name": "stdout",
     "output_type": "stream",
     "text": [
      "3244 131\n"
     ]
    }
   ],
   "source": [
    "print(len(df),len(df_control))"
   ]
  },
  {
   "cell_type": "markdown",
   "id": "cc8ff15d-3aed-41c4-8507-b6daaeede268",
   "metadata": {},
   "source": [
    "# Preprocessing of data"
   ]
  },
  {
   "cell_type": "code",
   "execution_count": 7,
   "id": "3da1eedb-c933-4cdb-b6a1-167e40af961e",
   "metadata": {},
   "outputs": [
    {
     "name": "stdout",
     "output_type": "stream",
     "text": [
      "film featured character popeye doyle\n"
     ]
    }
   ],
   "source": [
    "def remove_punct(text):\n",
    "    return (\"\".join([ch for ch in text if ch not in st.punctuation]))\n",
    "\n",
    "def tokenize(text):\n",
    "    text = re.split('\\s+' ,text)\n",
    "    return [x.lower() for x in text]\n",
    "\n",
    "def remove_small_words(text):\n",
    "    return [x for x in text if len(x) > 4 ]\n",
    "\n",
    "def remove_stopwords(text):\n",
    "    # forbidden = ['what', 'which', 'who', 'when', 'why', 'where', 'how', 'many', 'much']\n",
    "    # stopwords = [x for x in nltk.corpus.stopwords.words('english') if x not in forbidden]\n",
    "    return [word for word in text if word not in nltk.corpus.stopwords.words('english')]\n",
    "\n",
    "def lemmatize(text):\n",
    "    word_net = WordNetLemmatizer()\n",
    "    return [word_net.lemmatize(word) for word in text]\n",
    "\n",
    "def return_sentences(tokens):\n",
    "    return \" \".join([word for word in tokens])\n",
    "\n",
    "def preprocess_element(text):\n",
    "    return return_sentences(lemmatize(remove_stopwords(remove_small_words(tokenize(remove_punct(text))))))\n",
    "\n",
    "print(preprocess_element(\"What films featured the character Popeye Doyle ?\"))"
   ]
  },
  {
   "cell_type": "code",
   "execution_count": 8,
   "id": "2833c925-7fa2-4aa6-95fc-8ba450671dfb",
   "metadata": {},
   "outputs": [],
   "source": [
    "df['text'] = df['text'].apply(lambda x: preprocess_element(x))\n",
    "df_control['text'] = df_control['text'].apply(lambda x: preprocess_element(x))\n",
    "\n",
    "X_train, X_test, y_train, y_test = train_test_split(df['text'],df['category'],train_size=0.7)\n",
    "X_test = pd.concat([X_test,df_control['text']])\n",
    "y_test = pd.concat([y_test,df_control['category']])\n",
    "\n",
    "classes = np.unique(y_train)"
   ]
  },
  {
   "cell_type": "code",
   "execution_count": 9,
   "id": "96a7349c-857a-46d9-96fc-6faeb063c110",
   "metadata": {},
   "outputs": [],
   "source": [
    "tfidf = TfidfVectorizer()\n",
    "tfidf_train = tfidf.fit_transform(X_train.to_numpy()).todense()\n",
    "tfidf_test = tfidf.transform(X_test.to_numpy()).todense()\n",
    "\n",
    "\n",
    "# sim = cosine_similarity(tfidf_vect)\n"
   ]
  },
  {
   "cell_type": "code",
   "execution_count": 10,
   "id": "ce0ce652-d9c5-4e4d-812f-8a945fde6922",
   "metadata": {},
   "outputs": [
    {
     "name": "stdout",
     "output_type": "stream",
     "text": [
      "(2270, 16043)\n"
     ]
    }
   ],
   "source": [
    "print(np.shape(tfidf_train))"
   ]
  },
  {
   "cell_type": "markdown",
   "id": "e27cec8d-b909-4e88-8e1d-85aca94a666c",
   "metadata": {},
   "source": [
    "# kNN"
   ]
  },
  {
   "cell_type": "code",
   "execution_count": 11,
   "id": "97e729e6-2732-4720-8bf2-6039cb1ff237",
   "metadata": {},
   "outputs": [],
   "source": [
    "knn = KNeighborsClassifier(n_neighbors=15, metric = lambda x,y: 1-np.dot(x,y), weights=lambda x: 1-x)\n",
    "\n",
    "knn.fit(np.asarray(tfidf_train),np.asarray(y_train))\n",
    "preds = knn.predict(np.asarray(tfidf_test))\n",
    "knn_probs = knn.predict_proba(np.asarray(tfidf_test))"
   ]
  },
  {
   "cell_type": "code",
   "execution_count": 12,
   "id": "b2ffbb7c-015b-424a-a30e-c1f7e55a767e",
   "metadata": {},
   "outputs": [
    {
     "name": "stdout",
     "output_type": "stream",
     "text": [
      "Accuracy:  0.56289592760181\n"
     ]
    }
   ],
   "source": [
    "acc = knn.score(np.asarray(tfidf_test),np.asarray(y_test))\n",
    "\n",
    "print(\"Accuracy: \", acc)"
   ]
  },
  {
   "cell_type": "code",
   "execution_count": 11,
   "id": "53ec61c6-0989-43d9-9133-0f2659028992",
   "metadata": {},
   "outputs": [],
   "source": [
    "# Las cuatro siguientes son en principio useless\n",
    "distances, neighbors = knn.kneighbors(np.asarray(tfidf_test))"
   ]
  },
  {
   "cell_type": "code",
   "execution_count": 12,
   "id": "512a2845",
   "metadata": {},
   "outputs": [],
   "source": [
    "tag_function = np.vectorize(lambda x: list(y_train)[x])\n",
    "neigh_tags = tag_function(neighbors)"
   ]
  },
  {
   "cell_type": "code",
   "execution_count": 13,
   "id": "291f1799",
   "metadata": {},
   "outputs": [
    {
     "data": {
      "text/html": [
       "<div>\n",
       "<style scoped>\n",
       "    .dataframe tbody tr th:only-of-type {\n",
       "        vertical-align: middle;\n",
       "    }\n",
       "\n",
       "    .dataframe tbody tr th {\n",
       "        vertical-align: top;\n",
       "    }\n",
       "\n",
       "    .dataframe thead th {\n",
       "        text-align: right;\n",
       "    }\n",
       "</style>\n",
       "<table border=\"1\" class=\"dataframe\">\n",
       "  <thead>\n",
       "    <tr style=\"text-align: right;\">\n",
       "      <th></th>\n",
       "      <th>ABBR</th>\n",
       "      <th>DESC</th>\n",
       "      <th>ENTY</th>\n",
       "      <th>HUM</th>\n",
       "      <th>LOC</th>\n",
       "      <th>NUM</th>\n",
       "    </tr>\n",
       "  </thead>\n",
       "  <tbody>\n",
       "    <tr>\n",
       "      <th>0</th>\n",
       "      <td>0.804247</td>\n",
       "      <td>3.015902</td>\n",
       "      <td>3.787902</td>\n",
       "      <td>1.549652</td>\n",
       "      <td>1.526651</td>\n",
       "      <td>0.751378</td>\n",
       "    </tr>\n",
       "    <tr>\n",
       "      <th>1</th>\n",
       "      <td>0.000000</td>\n",
       "      <td>1.173612</td>\n",
       "      <td>0.525297</td>\n",
       "      <td>0.000000</td>\n",
       "      <td>2.937396</td>\n",
       "      <td>5.907371</td>\n",
       "    </tr>\n",
       "    <tr>\n",
       "      <th>2</th>\n",
       "      <td>0.000000</td>\n",
       "      <td>1.267678</td>\n",
       "      <td>5.272452</td>\n",
       "      <td>0.701207</td>\n",
       "      <td>0.000000</td>\n",
       "      <td>2.673393</td>\n",
       "    </tr>\n",
       "    <tr>\n",
       "      <th>3</th>\n",
       "      <td>0.000000</td>\n",
       "      <td>4.293104</td>\n",
       "      <td>0.799615</td>\n",
       "      <td>0.000000</td>\n",
       "      <td>5.235117</td>\n",
       "      <td>0.740091</td>\n",
       "    </tr>\n",
       "    <tr>\n",
       "      <th>4</th>\n",
       "      <td>0.000000</td>\n",
       "      <td>3.335951</td>\n",
       "      <td>3.681918</td>\n",
       "      <td>0.000000</td>\n",
       "      <td>1.460724</td>\n",
       "      <td>2.469960</td>\n",
       "    </tr>\n",
       "  </tbody>\n",
       "</table>\n",
       "</div>"
      ],
      "text/plain": [
       "       ABBR      DESC      ENTY       HUM       LOC       NUM\n",
       "0  0.804247  3.015902  3.787902  1.549652  1.526651  0.751378\n",
       "1  0.000000  1.173612  0.525297  0.000000  2.937396  5.907371\n",
       "2  0.000000  1.267678  5.272452  0.701207  0.000000  2.673393\n",
       "3  0.000000  4.293104  0.799615  0.000000  5.235117  0.740091\n",
       "4  0.000000  3.335951  3.681918  0.000000  1.460724  2.469960"
      ]
     },
     "execution_count": 13,
     "metadata": {},
     "output_type": "execute_result"
    }
   ],
   "source": [
    "tag_dist = pd.DataFrame(columns=classes)\n",
    "for cls in classes:        \n",
    "    tag_dist[cls] = [np.sum(dists[tags == cls]) for tags, dists in zip(neigh_tags,distances)]\n",
    "tag_dist.head()"
   ]
  },
  {
   "cell_type": "code",
   "execution_count": 14,
   "id": "5b796989",
   "metadata": {},
   "outputs": [
    {
     "data": {
      "text/html": [
       "<div>\n",
       "<style scoped>\n",
       "    .dataframe tbody tr th:only-of-type {\n",
       "        vertical-align: middle;\n",
       "    }\n",
       "\n",
       "    .dataframe tbody tr th {\n",
       "        vertical-align: top;\n",
       "    }\n",
       "\n",
       "    .dataframe thead th {\n",
       "        text-align: right;\n",
       "    }\n",
       "</style>\n",
       "<table border=\"1\" class=\"dataframe\">\n",
       "  <thead>\n",
       "    <tr style=\"text-align: right;\">\n",
       "      <th></th>\n",
       "      <th>ABBR</th>\n",
       "      <th>DESC</th>\n",
       "      <th>ENTY</th>\n",
       "      <th>HUM</th>\n",
       "      <th>LOC</th>\n",
       "      <th>NUM</th>\n",
       "    </tr>\n",
       "  </thead>\n",
       "  <tbody>\n",
       "    <tr>\n",
       "      <th>0</th>\n",
       "      <td>0.070328</td>\n",
       "      <td>0.263726</td>\n",
       "      <td>0.331234</td>\n",
       "      <td>0.135510</td>\n",
       "      <td>0.133498</td>\n",
       "      <td>0.065704</td>\n",
       "    </tr>\n",
       "    <tr>\n",
       "      <th>1</th>\n",
       "      <td>0.000000</td>\n",
       "      <td>0.111310</td>\n",
       "      <td>0.049821</td>\n",
       "      <td>0.000000</td>\n",
       "      <td>0.278593</td>\n",
       "      <td>0.560276</td>\n",
       "    </tr>\n",
       "    <tr>\n",
       "      <th>2</th>\n",
       "      <td>0.000000</td>\n",
       "      <td>0.127858</td>\n",
       "      <td>0.531780</td>\n",
       "      <td>0.070724</td>\n",
       "      <td>0.000000</td>\n",
       "      <td>0.269639</td>\n",
       "    </tr>\n",
       "    <tr>\n",
       "      <th>3</th>\n",
       "      <td>0.000000</td>\n",
       "      <td>0.387887</td>\n",
       "      <td>0.072246</td>\n",
       "      <td>0.000000</td>\n",
       "      <td>0.472999</td>\n",
       "      <td>0.066868</td>\n",
       "    </tr>\n",
       "    <tr>\n",
       "      <th>4</th>\n",
       "      <td>0.000000</td>\n",
       "      <td>0.304693</td>\n",
       "      <td>0.336293</td>\n",
       "      <td>0.000000</td>\n",
       "      <td>0.133417</td>\n",
       "      <td>0.225597</td>\n",
       "    </tr>\n",
       "  </tbody>\n",
       "</table>\n",
       "</div>"
      ],
      "text/plain": [
       "       ABBR      DESC      ENTY       HUM       LOC       NUM\n",
       "0  0.070328  0.263726  0.331234  0.135510  0.133498  0.065704\n",
       "1  0.000000  0.111310  0.049821  0.000000  0.278593  0.560276\n",
       "2  0.000000  0.127858  0.531780  0.070724  0.000000  0.269639\n",
       "3  0.000000  0.387887  0.072246  0.000000  0.472999  0.066868\n",
       "4  0.000000  0.304693  0.336293  0.000000  0.133417  0.225597"
      ]
     },
     "execution_count": 14,
     "metadata": {},
     "output_type": "execute_result"
    }
   ],
   "source": [
    "distribution = tag_dist.apply(lambda lst: lst/np.sum(lst), axis=1)\n",
    "distribution.head()"
   ]
  },
  {
   "cell_type": "code",
   "execution_count": 13,
   "id": "94655edd",
   "metadata": {
    "tags": []
   },
   "outputs": [],
   "source": [
    "# for i,cls in enumerate(classes):\n",
    "#     print(\"Number of times that\", cls, \"was predicted:\", np.sum([np.argmax(row) == i for row in distribution.to_numpy()]))\n",
    "# Making a ROC curve to decide a good threshold. In this case, all the classes are positives, instead of the None one\n",
    "y_real = []\n",
    "for pred in y_test:\n",
    "    if pred == \"None\":\n",
    "        y_real.append(0)\n",
    "    else:\n",
    "        y_real.append(1)\n",
    "        \n"
   ]
  },
  {
   "cell_type": "code",
   "execution_count": 14,
   "id": "05c79681",
   "metadata": {},
   "outputs": [
    {
     "ename": "NameError",
     "evalue": "name 'probs' is not defined",
     "output_type": "error",
     "traceback": [
      "\u001b[0;31m---------------------------------------------------------------------------\u001b[0m",
      "\u001b[0;31mNameError\u001b[0m                                 Traceback (most recent call last)",
      "Input \u001b[0;32mIn [14]\u001b[0m, in \u001b[0;36m<cell line: 1>\u001b[0;34m()\u001b[0m\n\u001b[0;32m----> 1\u001b[0m fpr, tpr, thresholds \u001b[38;5;241m=\u001b[39m roc_curve(y_real, [np\u001b[38;5;241m.\u001b[39mmax(row) \u001b[38;5;28;01mfor\u001b[39;00m row \u001b[38;5;129;01min\u001b[39;00m \u001b[43mprobs\u001b[49m])\n\u001b[1;32m      2\u001b[0m roc_auc \u001b[38;5;241m=\u001b[39m auc(fpr, tpr)\n\u001b[1;32m      4\u001b[0m plt\u001b[38;5;241m.\u001b[39mfigure()\n",
      "\u001b[0;31mNameError\u001b[0m: name 'probs' is not defined"
     ]
    }
   ],
   "source": [
    "fpr, tpr, thresholds = roc_curve(y_real, [np.max(row) for row in probs])\n",
    "roc_auc = auc(fpr, tpr)\n",
    "\n",
    "plt.figure()\n",
    "lw = 2\n",
    "plt.plot(\n",
    "    fpr,\n",
    "    tpr,\n",
    "    color=\"darkorange\",\n",
    "    lw=lw,\n",
    "    label=\"ROC curve (area = %0.2f)\" % roc_auc,\n",
    ")\n",
    "plt.plot([0, 1], [0, 1], color=\"navy\", lw=lw, linestyle=\"--\")\n",
    "plt.xlim([0.0, 1.0])\n",
    "plt.ylim([0.0, 1.05])\n",
    "plt.xlabel(\"False Positive Rate\")\n",
    "plt.ylabel(\"True Positive Rate\")\n",
    "plt.title(\"Receiver operating characteristic example\")\n",
    "plt.legend(loc=\"lower right\")\n",
    "plt.show()"
   ]
  },
  {
   "cell_type": "markdown",
   "id": "8214455b-30a9-4866-9dea-e5acfbcf5b95",
   "metadata": {},
   "source": [
    "# Neural Networks"
   ]
  },
  {
   "cell_type": "code",
   "execution_count": null,
   "id": "c3b25317-8c29-4bb2-9c67-68c01c8d5e60",
   "metadata": {},
   "outputs": [],
   "source": [
    "sizes = [8,16,32,64]\n",
    "\n",
    "max_acc = 0\n",
    "for i in sizes:\n",
    "    for j in sizes:\n",
    "        for k in sizes:\n",
    "            nn = MLPClassifier([i,j,k], early_stopping=True, n_iter_no_change=20, learning_rate='adaptive')\n",
    "            nn.fit(np.asarray(tfidf_train),np.asarray(y_train))\n",
    "            acc = nn.score(np.asarray(tfidf_test),np.asarray(y_test))\n",
    "            if max_acc < acc:\n",
    "                max_acc = acc\n",
    "                best_conf = nn\n",
    "    \n",
    "print(\"Number of layers: \", best_conf.get_params()[\"hidden_layer_sizes\"])\n",
    "print(\"Accuracy: \", max_acc)"
   ]
  },
  {
   "cell_type": "code",
   "execution_count": 15,
   "id": "25eaee3a-e2e4-4fc9-95bb-cbf4f938d770",
   "metadata": {},
   "outputs": [
    {
     "name": "stdout",
     "output_type": "stream",
     "text": [
      "Accuracy:  0.5547511312217195\n"
     ]
    }
   ],
   "source": [
    "nn = MLPClassifier([256,128,64], early_stopping=True, n_iter_no_change=20, learning_rate='adaptive')\n",
    "nn.fit(np.asarray(tfidf_train),np.asarray(y_train))\n",
    "acc = nn.score(np.asarray(tfidf_test),np.asarray(y_test))\n",
    "\n",
    "print(\"Accuracy: \", acc)"
   ]
  },
  {
   "cell_type": "code",
   "execution_count": 16,
   "id": "6fdd96da-24b3-4997-b942-fdf9f7a3c666",
   "metadata": {},
   "outputs": [],
   "source": [
    "nn_probs = nn.predict_proba(np.asarray(tfidf_test))"
   ]
  },
  {
   "cell_type": "code",
   "execution_count": 16,
   "id": "533c94a4-67dd-4fb9-9891-63cda80ea0ad",
   "metadata": {},
   "outputs": [
    {
     "data": {
      "image/png": "[encoded data removed]",
      "text/plain": [
       "<Figure size 432x288 with 1 Axes>"
      ]
     },
     "metadata": {
      "needs_background": "light"
     },
     "output_type": "display_data"
    }
   ],
   "source": [
    "fpr, tpr, thresholds = roc_curve(y_real, [np.max(row) for row in probs])\n",
    "roc_auc = auc(fpr, tpr)\n",
    "\n",
    "plt.figure()\n",
    "lw = 2\n",
    "plt.plot(\n",
    "    fpr,\n",
    "    tpr,\n",
    "    color=\"darkorange\",\n",
    "    lw=lw,\n",
    "    label=\"ROC curve (area = %0.2f)\" % roc_auc,\n",
    ")\n",
    "plt.plot([0, 1], [0, 1], color=\"navy\", lw=lw, linestyle=\"--\")\n",
    "plt.xlim([0.0, 1.0])\n",
    "plt.ylim([0.0, 1.05])\n",
    "plt.xlabel(\"False Positive Rate\")\n",
    "plt.ylabel(\"True Positive Rate\")\n",
    "plt.title(\"Receiver operating characteristic example\")\n",
    "plt.legend(loc=\"lower right\")\n",
    "plt.show()"
   ]
  },
  {
   "cell_type": "markdown",
   "id": "ee3fa998-b7ee-4ed8-b5b5-b6f94544baf4",
   "metadata": {},
   "source": [
    "# ROC and Precision-Recall Curves"
   ]
  },
  {
   "cell_type": "code",
   "execution_count": 19,
   "id": "4b9f7237-7ed0-4092-81e8-bcbb80266942",
   "metadata": {},
   "outputs": [],
   "source": [
    "# Converts the test predictions into binary ones\n",
    "def convert_classes(y_test):\n",
    "    y_real = []\n",
    "    for pred in y_test:\n",
    "        if pred == \"None\":\n",
    "            y_real.append(0)\n",
    "        else:\n",
    "            y_real.append(1)\n",
    "    return y_real\n",
    "\n",
    "# Apart from plotting the correponding ROC curve, it returns the best threshold\n",
    "def plot_one_roc(y_real,probs,name):\n",
    "    fpr, tpr, thresholds = roc_curve(y_real, [np.max(row) for row in probs])\n",
    "    roc_auc = auc(fpr, tpr)\n",
    "    \n",
    "    lw = 2\n",
    "    plt.plot(\n",
    "        fpr,\n",
    "        tpr,\n",
    "        # color=\"darkorange\",\n",
    "        lw=lw,\n",
    "        label=name + \" ROC curve (area = %0.2f)\" % roc_auc,\n",
    "    )\n",
    "    # Calculation of best threshold\n",
    "    argmax = np.argmax(tpr*(1-fpr))\n",
    "    print(\"Best threshold in \"+name+\": \"+str(thresholds[argmax]))\n",
    "    print(\"Best TPR in \"+name+\": \"+str(tpr[argmax]))\n",
    "    print(\"Best FPR in \"+name+\": \"+str(fpr[argmax]))\n",
    "    print()\n",
    "    return thresholds[argmax]\n",
    "\n",
    "# Plot both ROC curves: knn and neural network\n",
    "def plot_roc_curves(y_test, knn_probs, nn_probs):\n",
    "    best_thres = {}\n",
    "    plt.figure()\n",
    "    \n",
    "    lw = 2\n",
    "    y_real = convert_classes(y_test)\n",
    "    \n",
    "    best_thres['knn'] = plot_one_roc(y_real,knn_probs,\"kNN\")\n",
    "    best_thres['nn'] = plot_one_roc(y_real,nn_probs,\"Neural Net\")\n",
    "    \n",
    "    plt.plot([0, 1], [0, 1], color=\"navy\", lw=lw, linestyle=\"--\")\n",
    "    plt.xlim([0.0, 1.0])\n",
    "    plt.ylim([0.0, 1.05])\n",
    "    plt.xlabel(\"False Positive Rate\")\n",
    "    plt.ylabel(\"True Positive Rate (Recall)\")\n",
    "    plt.title(\"ROC Curves\")\n",
    "    plt.legend(loc=\"lower right\")\n",
    "    plt.show()\n",
    "    \n",
    "    return best_thres"
   ]
  },
  {
   "cell_type": "code",
   "execution_count": 20,
   "id": "c0f19115-239f-4c8e-907c-300dfdb2e35f",
   "metadata": {},
   "outputs": [
    {
     "name": "stdout",
     "output_type": "stream",
     "text": [
      "Best threshold in kNN: 0.4736818592098461\n",
      "Best TPR in kNN: 0.6529774127310062\n",
      "Best FPR in kNN: 0.1984732824427481\n",
      "\n",
      "Best threshold in Neural Net: 0.5829413052078531\n",
      "Best TPR in Neural Net: 0.7248459958932238\n",
      "Best FPR in Neural Net: 0.15267175572519084\n",
      "\n"
     ]
    },
    {
     "data": {
      "image/png": "[encoded data removed]",
      "text/plain": [
       "<Figure size 432x288 with 1 Axes>"
      ]
     },
     "metadata": {
      "needs_background": "light"
     },
     "output_type": "display_data"
    }
   ],
   "source": [
    "best_thres = plot_roc_curves(y_test, knn_probs, nn_probs)"
   ]
  },
  {
   "cell_type": "code",
   "execution_count": 29,
   "id": "da724f6a-f505-4563-8cca-0d48d39c2fdd",
   "metadata": {},
   "outputs": [],
   "source": [
    "def plot_one_recprec(y_real,probs,name):\n",
    "    precision, recall, thresholds = precision_recall_curve(y_real, [np.max(row) for row in probs])\n",
    "    # Precision empieza en 1 en vez de en 0\n",
    "    lw = 2\n",
    "    plt.plot(\n",
    "        recall,\n",
    "        precision,\n",
    "        # color=\"darkorange\",\n",
    "        lw=lw,\n",
    "        label=name,\n",
    "    )\n",
    "    print(thresholds)\n",
    "\n",
    "# Plot both Precision-Recall curves: knn and neural network\n",
    "def plot_recprec_curves(y_test, knn_probs, nn_probs):\n",
    "    best_thres = {}\n",
    "    plt.figure()\n",
    "    \n",
    "    lw=2\n",
    "    y_real = convert_classes(y_test)\n",
    "    \n",
    "    best_thres['knn'] = plot_one_recprec(y_real,knn_probs,\"kNN\")\n",
    "    best_thres['nn'] = plot_one_recprec(y_real,nn_probs,\"Neural Net\")\n",
    "\n",
    "    # plt.xlim([0.0, 1.0])\n",
    "    # plt.ylim([0.0, 1.05])\n",
    "    plt.xlabel(\"Recall\")\n",
    "    plt.ylabel(\"Precision\")\n",
    "    plt.title(\"Precision-Recall Curves\")\n",
    "    plt.legend(loc=\"lower left\")\n",
    "    plt.show()\n"
   ]
  },
  {
   "cell_type": "code",
   "execution_count": 30,
   "id": "fab67d9d-2cd9-458f-a7f4-6d16f7b7abb6",
   "metadata": {},
   "outputs": [
    {
     "name": "stdout",
     "output_type": "stream",
     "text": [
      "[0.21241603 0.22240642 0.22409221 ... 0.96001601 0.96142591 1.        ]\n",
      "[0.20294064 0.22283791 0.23155427 ... 0.99547778 0.99593923 0.99599722]\n"
     ]
    },
    {
     "data": {
      "image/png": "[encoded data removed]",
      "text/plain": [
       "<Figure size 432x288 with 1 Axes>"
      ]
     },
     "metadata": {
      "needs_background": "light"
     },
     "output_type": "display_data"
    }
   ],
   "source": [
    "plot_recprec_curves(y_test, knn_probs, nn_probs)"
   ]
  },
  {
   "cell_type": "code",
   "execution_count": null,
   "id": "e1efa531-14d0-4aa4-8d2f-f80e28cad21f",
   "metadata": {},
   "outputs": [],
   "source": []
  }
 ],
 "metadata": {
  "kernelspec": {
   "display_name": "Python 3 (ipykernel)",
   "language": "python",
   "name": "python3"
  },
  "language_info": {
   "codemirror_mode": {
    "name": "ipython",
    "version": 3
   },
   "file_extension": ".py",
   "mimetype": "text/x-python",
   "name": "python",
   "nbconvert_exporter": "python",
   "pygments_lexer": "ipython3",
   "version": "3.8.10"
  }
 },
 "nbformat": 4,
 "nbformat_minor": 5
}
