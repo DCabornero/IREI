{
 "cells": [
  {
   "cell_type": "code",
   "execution_count": 22,
   "id": "7b865a7f",
   "metadata": {},
   "outputs": [],
   "source": [
    "import pandas as pd\n",
    "import numpy as np\n",
    "import seaborn as sns\n",
    "import matplotlib.pyplot as plt\n",
    "# prep\n",
    "from sklearn.model_selection import train_test_split\n",
    "from sklearn import preprocessing\n",
    "from sklearn.compose import make_column_transformer\n",
    "from sklearn.preprocessing import binarize, LabelEncoder, MinMaxScaler\n",
    "\n",
    "from sklearn.linear_model import LogisticRegression\n",
    "from sklearn.preprocessing import OneHotEncoder\n",
    "\n",
    "# Validation libraries\n",
    "from sklearn import metrics\n",
    "from sklearn.metrics import accuracy_score, mean_squared_error, precision_recall_curve\n",
    "from sklearn.model_selection import cross_val_score\n",
    "\n",
    "from aif360.sklearn.preprocessing import ReweighingMeta\n",
    "from aif360.sklearn.inprocessing import AdversarialDebiasing\n",
    "from aif360.sklearn.postprocessing import CalibratedEqualizedOdds, PostProcessingMeta\n",
    "from aif360.sklearn.metrics import disparate_impact_ratio, average_odds_error, generalized_fpr\n",
    "from aif360.sklearn.metrics import generalized_fnr, difference"
   ]
  },
  {
   "cell_type": "code",
   "execution_count": 60,
   "id": "e559f94e",
   "metadata": {},
   "outputs": [
    {
     "name": "stdout",
     "output_type": "stream",
     "text": [
      "<class 'pandas.core.frame.DataFrame'>\n",
      "RangeIndex: 942 entries, 0 to 941\n",
      "Data columns (total 27 columns):\n",
      " #   Column                     Non-Null Count  Dtype \n",
      "---  ------                     --------------  ----- \n",
      " 0   Age                        942 non-null    object\n",
      " 1   Country                    942 non-null    object\n",
      " 2   self_employed              942 non-null    object\n",
      " 3   family_history             942 non-null    object\n",
      " 4   work_interfere             942 non-null    object\n",
      " 5   no_employees               942 non-null    object\n",
      " 6   remote_work                942 non-null    object\n",
      " 7   tech_company               942 non-null    object\n",
      " 8   benefits                   942 non-null    object\n",
      " 9   care_options               942 non-null    object\n",
      " 10  wellness_program           942 non-null    object\n",
      " 11  seek_help                  942 non-null    object\n",
      " 12  anonymity                  942 non-null    object\n",
      " 13  leave                      942 non-null    object\n",
      " 14  mental_health_consequence  942 non-null    object\n",
      " 15  phys_health_consequence    942 non-null    object\n",
      " 16  coworkers                  942 non-null    object\n",
      " 17  supervisor                 942 non-null    object\n",
      " 18  mental_health_interview    942 non-null    object\n",
      " 19  phys_health_interview      942 non-null    object\n",
      " 20  mental_vs_physical         942 non-null    object\n",
      " 21  obs_consequence            942 non-null    object\n",
      " 22  Employment                 942 non-null    object\n",
      " 23  Inflation                  942 non-null    object\n",
      " 24  sex                        942 non-null    object\n",
      " 25  label_value                942 non-null    int64 \n",
      " 26  score                      942 non-null    int64 \n",
      "dtypes: int64(2), object(25)\n",
      "memory usage: 198.8+ KB\n"
     ]
    }
   ],
   "source": [
    "treatment_categorized = pd.read_csv('treatment_categorized.csv',sep=';')\n",
    "treatment_categorized.head()\n",
    "treatment_categorized.info()\n"
   ]
  },
  {
   "cell_type": "code",
   "execution_count": 61,
   "id": "6b0ef56e",
   "metadata": {},
   "outputs": [
    {
     "data": {
      "text/html": [
       "<div>\n",
       "<style scoped>\n",
       "    .dataframe tbody tr th:only-of-type {\n",
       "        vertical-align: middle;\n",
       "    }\n",
       "\n",
       "    .dataframe tbody tr th {\n",
       "        vertical-align: top;\n",
       "    }\n",
       "\n",
       "    .dataframe thead th {\n",
       "        text-align: right;\n",
       "    }\n",
       "</style>\n",
       "<table border=\"1\" class=\"dataframe\">\n",
       "  <thead>\n",
       "    <tr style=\"text-align: right;\">\n",
       "      <th></th>\n",
       "      <th>Age</th>\n",
       "      <th>label_value</th>\n",
       "      <th>Country</th>\n",
       "      <th>Inflation</th>\n",
       "      <th>Employment</th>\n",
       "    </tr>\n",
       "  </thead>\n",
       "  <tbody>\n",
       "    <tr>\n",
       "      <th>0</th>\n",
       "      <td>forties</td>\n",
       "      <td>0</td>\n",
       "      <td>'United States'</td>\n",
       "      <td>low</td>\n",
       "      <td>high</td>\n",
       "    </tr>\n",
       "    <tr>\n",
       "      <th>1</th>\n",
       "      <td>twenties</td>\n",
       "      <td>1</td>\n",
       "      <td>'United States'</td>\n",
       "      <td>low</td>\n",
       "      <td>high</td>\n",
       "    </tr>\n",
       "    <tr>\n",
       "      <th>2</th>\n",
       "      <td>thirties</td>\n",
       "      <td>0</td>\n",
       "      <td>'United States'</td>\n",
       "      <td>low</td>\n",
       "      <td>high</td>\n",
       "    </tr>\n",
       "    <tr>\n",
       "      <th>3</th>\n",
       "      <td>forties</td>\n",
       "      <td>1</td>\n",
       "      <td>'United States'</td>\n",
       "      <td>low</td>\n",
       "      <td>high</td>\n",
       "    </tr>\n",
       "    <tr>\n",
       "      <th>4</th>\n",
       "      <td>forties</td>\n",
       "      <td>1</td>\n",
       "      <td>'United States'</td>\n",
       "      <td>low</td>\n",
       "      <td>high</td>\n",
       "    </tr>\n",
       "  </tbody>\n",
       "</table>\n",
       "</div>"
      ],
      "text/plain": [
       "        Age  label_value          Country Inflation Employment\n",
       "0   forties            0  'United States'       low       high\n",
       "1  twenties            1  'United States'       low       high\n",
       "2  thirties            0  'United States'       low       high\n",
       "3   forties            1  'United States'       low       high\n",
       "4   forties            1  'United States'       low       high"
      ]
     },
     "execution_count": 61,
     "metadata": {},
     "output_type": "execute_result"
    }
   ],
   "source": [
    "feature_cols = ['Age', 'label_value', 'Country', 'Inflation', 'Employment']\n",
    "X = treatment_categorized[feature_cols]\n",
    "y = treatment_categorized.sex\n",
    "X.head()"
   ]
  },
  {
   "cell_type": "code",
   "execution_count": 62,
   "id": "cb10125a",
   "metadata": {},
   "outputs": [
    {
     "name": "stderr",
     "output_type": "stream",
     "text": [
      "/usr/local/anaconda3/envs/IREI/lib/python3.9/site-packages/sklearn/utils/validation.py:63: DataConversionWarning: A column-vector y was passed when a 1d array was expected. Please change the shape of y to (n_samples, ), for example using ravel().\n",
      "  return f(*args, **kwargs)\n",
      "/usr/local/anaconda3/envs/IREI/lib/python3.9/site-packages/sklearn/utils/validation.py:63: DataConversionWarning: A column-vector y was passed when a 1d array was expected. Please change the shape of y to (n_samples, ), for example using ravel().\n",
      "  return f(*args, **kwargs)\n",
      "<ipython-input-62-581a635c6be5>:3: SettingWithCopyWarning: \n",
      "A value is trying to be set on a copy of a slice from a DataFrame.\n",
      "Try using .loc[row_indexer,col_indexer] = value instead\n",
      "\n",
      "See the caveats in the documentation: https://pandas.pydata.org/pandas-docs/stable/user_guide/indexing.html#returning-a-view-versus-a-copy\n",
      "  X['Age'] = le.transform(X[['Age']])\n",
      "/usr/local/anaconda3/envs/IREI/lib/python3.9/site-packages/sklearn/utils/validation.py:63: DataConversionWarning: A column-vector y was passed when a 1d array was expected. Please change the shape of y to (n_samples, ), for example using ravel().\n",
      "  return f(*args, **kwargs)\n",
      "/usr/local/anaconda3/envs/IREI/lib/python3.9/site-packages/sklearn/utils/validation.py:63: DataConversionWarning: A column-vector y was passed when a 1d array was expected. Please change the shape of y to (n_samples, ), for example using ravel().\n",
      "  return f(*args, **kwargs)\n",
      "<ipython-input-62-581a635c6be5>:7: SettingWithCopyWarning: \n",
      "A value is trying to be set on a copy of a slice from a DataFrame.\n",
      "Try using .loc[row_indexer,col_indexer] = value instead\n",
      "\n",
      "See the caveats in the documentation: https://pandas.pydata.org/pandas-docs/stable/user_guide/indexing.html#returning-a-view-versus-a-copy\n",
      "  X['Country'] = le.transform(X[['Country']])\n",
      "/usr/local/anaconda3/envs/IREI/lib/python3.9/site-packages/sklearn/utils/validation.py:63: DataConversionWarning: A column-vector y was passed when a 1d array was expected. Please change the shape of y to (n_samples, ), for example using ravel().\n",
      "  return f(*args, **kwargs)\n",
      "/usr/local/anaconda3/envs/IREI/lib/python3.9/site-packages/sklearn/utils/validation.py:63: DataConversionWarning: A column-vector y was passed when a 1d array was expected. Please change the shape of y to (n_samples, ), for example using ravel().\n",
      "  return f(*args, **kwargs)\n",
      "<ipython-input-62-581a635c6be5>:9: SettingWithCopyWarning: \n",
      "A value is trying to be set on a copy of a slice from a DataFrame.\n",
      "Try using .loc[row_indexer,col_indexer] = value instead\n",
      "\n",
      "See the caveats in the documentation: https://pandas.pydata.org/pandas-docs/stable/user_guide/indexing.html#returning-a-view-versus-a-copy\n",
      "  X['Inflation'] = le.transform(X[['Inflation']])\n",
      "/usr/local/anaconda3/envs/IREI/lib/python3.9/site-packages/sklearn/utils/validation.py:63: DataConversionWarning: A column-vector y was passed when a 1d array was expected. Please change the shape of y to (n_samples, ), for example using ravel().\n",
      "  return f(*args, **kwargs)\n",
      "/usr/local/anaconda3/envs/IREI/lib/python3.9/site-packages/sklearn/utils/validation.py:63: DataConversionWarning: A column-vector y was passed when a 1d array was expected. Please change the shape of y to (n_samples, ), for example using ravel().\n",
      "  return f(*args, **kwargs)\n",
      "<ipython-input-62-581a635c6be5>:11: SettingWithCopyWarning: \n",
      "A value is trying to be set on a copy of a slice from a DataFrame.\n",
      "Try using .loc[row_indexer,col_indexer] = value instead\n",
      "\n",
      "See the caveats in the documentation: https://pandas.pydata.org/pandas-docs/stable/user_guide/indexing.html#returning-a-view-versus-a-copy\n",
      "  X['Employment'] = le.transform(X[['Employment']])\n"
     ]
    }
   ],
   "source": [
    "le = preprocessing.LabelEncoder()\n",
    "le.fit(X[['Age']])\n",
    "X['Age'] = le.transform(X[['Age']])\n",
    "# le.fit(X[['sex']])\n",
    "# X['sex'] = le.transform(X[['sex']])\n",
    "le.fit(X[['Country']])\n",
    "X['Country'] = le.transform(X[['Country']])\n",
    "le.fit(X[['Inflation']])\n",
    "X['Inflation'] = le.transform(X[['Inflation']])\n",
    "le.fit(X[['Employment']])\n",
    "X['Employment'] = le.transform(X[['Employment']])"
   ]
  },
  {
   "cell_type": "code",
   "execution_count": 63,
   "id": "fc97a83d",
   "metadata": {},
   "outputs": [],
   "source": [
    "(X_train, X_test, y_train, y_test) = train_test_split(X, y, train_size=0.7, random_state=1234567)"
   ]
  },
  {
   "cell_type": "code",
   "execution_count": 64,
   "id": "f7ee0549",
   "metadata": {},
   "outputs": [
    {
     "data": {
      "text/plain": [
       "0.7314487632508834"
      ]
     },
     "execution_count": 64,
     "metadata": {},
     "output_type": "execute_result"
    }
   ],
   "source": [
    "y_pred = LogisticRegression(solver='lbfgs').fit(X_train, y_train).predict(X_test)\n",
    "accuracy_score(y_test, y_pred)"
   ]
  },
  {
   "cell_type": "code",
   "execution_count": 65,
   "id": "e0f11ca1",
   "metadata": {},
   "outputs": [
    {
     "ename": "ValueError",
     "evalue": "Some of the attributes provided are not present in the dataset. Expected a subset of:\n[]\nGot:\n['sex']",
     "output_type": "error",
     "traceback": [
      "\u001b[0;31m---------------------------------------------------------------------------\u001b[0m",
      "\u001b[0;31mValueError\u001b[0m                                Traceback (most recent call last)",
      "Input \u001b[0;32mIn [65]\u001b[0m, in \u001b[0;36m<cell line: 1>\u001b[0;34m()\u001b[0m\n\u001b[0;32m----> 1\u001b[0m \u001b[43mdisparate_impact_ratio\u001b[49m\u001b[43m(\u001b[49m\u001b[43my_test\u001b[49m\u001b[43m,\u001b[49m\u001b[43m \u001b[49m\u001b[43my_pred\u001b[49m\u001b[43m,\u001b[49m\u001b[43m \u001b[49m\u001b[43mprot_attr\u001b[49m\u001b[38;5;241;43m=\u001b[39;49m\u001b[38;5;124;43m'\u001b[39;49m\u001b[38;5;124;43msex\u001b[39;49m\u001b[38;5;124;43m'\u001b[39;49m\u001b[43m)\u001b[49m\n",
      "File \u001b[0;32m/usr/local/anaconda3/envs/IREI/lib/python3.9/site-packages/aif360/sklearn/metrics/metrics.py:322\u001b[0m, in \u001b[0;36mdisparate_impact_ratio\u001b[0;34m(prot_attr, priv_group, pos_label, sample_weight, *y)\u001b[0m\n\u001b[1;32m    293\u001b[0m \u001b[38;5;124mr\u001b[39m\u001b[38;5;124;03m\"\"\"Ratio of selection rates.\u001b[39;00m\n\u001b[1;32m    294\u001b[0m \n\u001b[1;32m    295\u001b[0m \u001b[38;5;124;03m.. math::\u001b[39;00m\n\u001b[0;32m   (...)\u001b[0m\n\u001b[1;32m    319\u001b[0m \u001b[38;5;124;03m    :func:`selection_rate`, :func:`base_rate`\u001b[39;00m\n\u001b[1;32m    320\u001b[0m \u001b[38;5;124;03m\"\"\"\u001b[39;00m\n\u001b[1;32m    321\u001b[0m rate \u001b[38;5;241m=\u001b[39m base_rate \u001b[38;5;28;01mif\u001b[39;00m \u001b[38;5;28mlen\u001b[39m(y) \u001b[38;5;241m==\u001b[39m \u001b[38;5;241m1\u001b[39m \u001b[38;5;129;01mor\u001b[39;00m y[\u001b[38;5;241m1\u001b[39m] \u001b[38;5;129;01mis\u001b[39;00m \u001b[38;5;28;01mNone\u001b[39;00m \u001b[38;5;28;01melse\u001b[39;00m selection_rate\n\u001b[0;32m--> 322\u001b[0m \u001b[38;5;28;01mreturn\u001b[39;00m \u001b[43mratio\u001b[49m\u001b[43m(\u001b[49m\u001b[43mrate\u001b[49m\u001b[43m,\u001b[49m\u001b[43m \u001b[49m\u001b[38;5;241;43m*\u001b[39;49m\u001b[43my\u001b[49m\u001b[43m,\u001b[49m\u001b[43m \u001b[49m\u001b[43mprot_attr\u001b[49m\u001b[38;5;241;43m=\u001b[39;49m\u001b[43mprot_attr\u001b[49m\u001b[43m,\u001b[49m\u001b[43m \u001b[49m\u001b[43mpriv_group\u001b[49m\u001b[38;5;241;43m=\u001b[39;49m\u001b[43mpriv_group\u001b[49m\u001b[43m,\u001b[49m\n\u001b[1;32m    323\u001b[0m \u001b[43m             \u001b[49m\u001b[43mpos_label\u001b[49m\u001b[38;5;241;43m=\u001b[39;49m\u001b[43mpos_label\u001b[49m\u001b[43m,\u001b[49m\u001b[43m \u001b[49m\u001b[43msample_weight\u001b[49m\u001b[38;5;241;43m=\u001b[39;49m\u001b[43msample_weight\u001b[49m\u001b[43m)\u001b[49m\n",
      "File \u001b[0;32m/usr/local/anaconda3/envs/IREI/lib/python3.9/site-packages/aif360/sklearn/metrics/metrics.py:102\u001b[0m, in \u001b[0;36mratio\u001b[0;34m(func, y, prot_attr, priv_group, sample_weight, *args, **kwargs)\u001b[0m\n\u001b[1;32m     77\u001b[0m \u001b[38;5;28;01mdef\u001b[39;00m \u001b[38;5;21mratio\u001b[39m(func, y, \u001b[38;5;241m*\u001b[39margs, prot_attr\u001b[38;5;241m=\u001b[39m\u001b[38;5;28;01mNone\u001b[39;00m, priv_group\u001b[38;5;241m=\u001b[39m\u001b[38;5;241m1\u001b[39m, sample_weight\u001b[38;5;241m=\u001b[39m\u001b[38;5;28;01mNone\u001b[39;00m,\n\u001b[1;32m     78\u001b[0m           \u001b[38;5;241m*\u001b[39m\u001b[38;5;241m*\u001b[39mkwargs):\n\u001b[1;32m     79\u001b[0m     \u001b[38;5;124;03m\"\"\"Compute the ratio between unprivileged and privileged subsets for an\u001b[39;00m\n\u001b[1;32m     80\u001b[0m \u001b[38;5;124;03m    arbitrary metric.\u001b[39;00m\n\u001b[1;32m     81\u001b[0m \n\u001b[0;32m   (...)\u001b[0m\n\u001b[1;32m    100\u001b[0m \u001b[38;5;124;03m        scalar: Ratio of metric values for unprivileged and privileged groups.\u001b[39;00m\n\u001b[1;32m    101\u001b[0m \u001b[38;5;124;03m    \"\"\"\u001b[39;00m\n\u001b[0;32m--> 102\u001b[0m     groups, _ \u001b[38;5;241m=\u001b[39m \u001b[43mcheck_groups\u001b[49m\u001b[43m(\u001b[49m\u001b[43my\u001b[49m\u001b[43m,\u001b[49m\u001b[43m \u001b[49m\u001b[43mprot_attr\u001b[49m\u001b[43m)\u001b[49m\n\u001b[1;32m    103\u001b[0m     idx \u001b[38;5;241m=\u001b[39m (groups \u001b[38;5;241m==\u001b[39m priv_group)\n\u001b[1;32m    104\u001b[0m     unpriv \u001b[38;5;241m=\u001b[39m \u001b[38;5;28mmap\u001b[39m(\u001b[38;5;28;01mlambda\u001b[39;00m a: a[\u001b[38;5;241m~\u001b[39midx], (y,) \u001b[38;5;241m+\u001b[39m args)\n",
      "File \u001b[0;32m/usr/local/anaconda3/envs/IREI/lib/python3.9/site-packages/aif360/sklearn/utils.py:81\u001b[0m, in \u001b[0;36mcheck_groups\u001b[0;34m(arr, prot_attr, ensure_binary)\u001b[0m\n\u001b[1;32m     78\u001b[0m     prot_attr \u001b[38;5;241m=\u001b[39m [prot_attr]\n\u001b[1;32m     80\u001b[0m \u001b[38;5;28;01mif\u001b[39;00m \u001b[38;5;28many\u001b[39m(p \u001b[38;5;129;01mnot\u001b[39;00m \u001b[38;5;129;01min\u001b[39;00m arr\u001b[38;5;241m.\u001b[39mindex\u001b[38;5;241m.\u001b[39mnames \u001b[38;5;28;01mfor\u001b[39;00m p \u001b[38;5;129;01min\u001b[39;00m prot_attr):\n\u001b[0;32m---> 81\u001b[0m     \u001b[38;5;28;01mraise\u001b[39;00m \u001b[38;5;167;01mValueError\u001b[39;00m(\u001b[38;5;124m\"\u001b[39m\u001b[38;5;124mSome of the attributes provided are not present \u001b[39m\u001b[38;5;124m\"\u001b[39m\n\u001b[1;32m     82\u001b[0m                      \u001b[38;5;124m\"\u001b[39m\u001b[38;5;124min the dataset. Expected a subset of:\u001b[39m\u001b[38;5;130;01m\\n\u001b[39;00m\u001b[38;5;132;01m{}\u001b[39;00m\u001b[38;5;130;01m\\n\u001b[39;00m\u001b[38;5;124mGot:\u001b[39m\u001b[38;5;130;01m\\n\u001b[39;00m\u001b[38;5;124m\"\u001b[39m\n\u001b[1;32m     83\u001b[0m                      \u001b[38;5;124m\"\u001b[39m\u001b[38;5;132;01m{}\u001b[39;00m\u001b[38;5;124m\"\u001b[39m\u001b[38;5;241m.\u001b[39mformat(all_prot_attrs, prot_attr))\n\u001b[1;32m     85\u001b[0m groups \u001b[38;5;241m=\u001b[39m arr\u001b[38;5;241m.\u001b[39mindex\u001b[38;5;241m.\u001b[39mdroplevel(\u001b[38;5;28mlist\u001b[39m(\u001b[38;5;28mset\u001b[39m(arr\u001b[38;5;241m.\u001b[39mindex\u001b[38;5;241m.\u001b[39mnames) \u001b[38;5;241m-\u001b[39m \u001b[38;5;28mset\u001b[39m(prot_attr)))\n\u001b[1;32m     86\u001b[0m groups \u001b[38;5;241m=\u001b[39m groups\u001b[38;5;241m.\u001b[39mto_flat_index()\n",
      "\u001b[0;31mValueError\u001b[0m: Some of the attributes provided are not present in the dataset. Expected a subset of:\n[]\nGot:\n['sex']"
     ]
    }
   ],
   "source": [
    "disparate_impact_ratio(y_test, y_pred, prot_attr='sex')"
   ]
  },
  {
   "cell_type": "code",
   "execution_count": 58,
   "id": "cefd6b95",
   "metadata": {},
   "outputs": [
    {
     "ename": "ValueError",
     "evalue": "Some of the attributes provided are not present in the dataset. Expected a subset of:\n[]\nGot:\n['sex']",
     "output_type": "error",
     "traceback": [
      "\u001b[0;31m---------------------------------------------------------------------------\u001b[0m",
      "\u001b[0;31mValueError\u001b[0m                                Traceback (most recent call last)",
      "Input \u001b[0;32mIn [58]\u001b[0m, in \u001b[0;36m<cell line: 1>\u001b[0;34m()\u001b[0m\n\u001b[0;32m----> 1\u001b[0m \u001b[43maverage_odds_error\u001b[49m\u001b[43m(\u001b[49m\u001b[43my_test\u001b[49m\u001b[43m,\u001b[49m\u001b[43m \u001b[49m\u001b[43my_pred\u001b[49m\u001b[43m,\u001b[49m\u001b[43m \u001b[49m\u001b[43mprot_attr\u001b[49m\u001b[38;5;241;43m=\u001b[39;49m\u001b[38;5;124;43m'\u001b[39;49m\u001b[38;5;124;43msex\u001b[39;49m\u001b[38;5;124;43m'\u001b[39;49m\u001b[43m)\u001b[49m\n",
      "File \u001b[0;32m/usr/local/anaconda3/envs/IREI/lib/python3.9/site-packages/aif360/sklearn/metrics/metrics.py:411\u001b[0m, in \u001b[0;36maverage_odds_error\u001b[0;34m(y_true, y_pred, prot_attr, pos_label, sample_weight)\u001b[0m\n\u001b[1;32m    385\u001b[0m \u001b[38;5;28;01mdef\u001b[39;00m \u001b[38;5;21maverage_odds_error\u001b[39m(y_true, y_pred, prot_attr\u001b[38;5;241m=\u001b[39m\u001b[38;5;28;01mNone\u001b[39;00m, pos_label\u001b[38;5;241m=\u001b[39m\u001b[38;5;241m1\u001b[39m,\n\u001b[1;32m    386\u001b[0m                        sample_weight\u001b[38;5;241m=\u001b[39m\u001b[38;5;28;01mNone\u001b[39;00m):\n\u001b[1;32m    387\u001b[0m     \u001b[38;5;124mr\u001b[39m\u001b[38;5;124;03m\"\"\"A relaxed version of equality of odds.\u001b[39;00m\n\u001b[1;32m    388\u001b[0m \n\u001b[1;32m    389\u001b[0m \u001b[38;5;124;03m    Returns the average of the absolute difference in FPR and TPR for the\u001b[39;00m\n\u001b[0;32m   (...)\u001b[0m\n\u001b[1;32m    409\u001b[0m \u001b[38;5;124;03m        float: Average odds error.\u001b[39;00m\n\u001b[1;32m    410\u001b[0m \u001b[38;5;124;03m    \"\"\"\u001b[39;00m\n\u001b[0;32m--> 411\u001b[0m     priv_group \u001b[38;5;241m=\u001b[39m \u001b[43mcheck_groups\u001b[49m\u001b[43m(\u001b[49m\u001b[43my_true\u001b[49m\u001b[43m,\u001b[49m\u001b[43m \u001b[49m\u001b[43mprot_attr\u001b[49m\u001b[38;5;241;43m=\u001b[39;49m\u001b[43mprot_attr\u001b[49m\u001b[43m)\u001b[49m[\u001b[38;5;241m0\u001b[39m][\u001b[38;5;241m0\u001b[39m]\n\u001b[1;32m    412\u001b[0m     fpr_diff \u001b[38;5;241m=\u001b[39m \u001b[38;5;241m-\u001b[39mdifference(specificity_score, y_true, y_pred,\n\u001b[1;32m    413\u001b[0m                            prot_attr\u001b[38;5;241m=\u001b[39mprot_attr, priv_group\u001b[38;5;241m=\u001b[39mpriv_group,\n\u001b[1;32m    414\u001b[0m                            pos_label\u001b[38;5;241m=\u001b[39mpos_label, sample_weight\u001b[38;5;241m=\u001b[39msample_weight)\n\u001b[1;32m    415\u001b[0m     tpr_diff \u001b[38;5;241m=\u001b[39m difference(recall_score, y_true, y_pred, prot_attr\u001b[38;5;241m=\u001b[39mprot_attr,\n\u001b[1;32m    416\u001b[0m                           priv_group\u001b[38;5;241m=\u001b[39mpriv_group, pos_label\u001b[38;5;241m=\u001b[39mpos_label,\n\u001b[1;32m    417\u001b[0m                           sample_weight\u001b[38;5;241m=\u001b[39msample_weight)\n",
      "File \u001b[0;32m/usr/local/anaconda3/envs/IREI/lib/python3.9/site-packages/aif360/sklearn/utils.py:81\u001b[0m, in \u001b[0;36mcheck_groups\u001b[0;34m(arr, prot_attr, ensure_binary)\u001b[0m\n\u001b[1;32m     78\u001b[0m     prot_attr \u001b[38;5;241m=\u001b[39m [prot_attr]\n\u001b[1;32m     80\u001b[0m \u001b[38;5;28;01mif\u001b[39;00m \u001b[38;5;28many\u001b[39m(p \u001b[38;5;129;01mnot\u001b[39;00m \u001b[38;5;129;01min\u001b[39;00m arr\u001b[38;5;241m.\u001b[39mindex\u001b[38;5;241m.\u001b[39mnames \u001b[38;5;28;01mfor\u001b[39;00m p \u001b[38;5;129;01min\u001b[39;00m prot_attr):\n\u001b[0;32m---> 81\u001b[0m     \u001b[38;5;28;01mraise\u001b[39;00m \u001b[38;5;167;01mValueError\u001b[39;00m(\u001b[38;5;124m\"\u001b[39m\u001b[38;5;124mSome of the attributes provided are not present \u001b[39m\u001b[38;5;124m\"\u001b[39m\n\u001b[1;32m     82\u001b[0m                      \u001b[38;5;124m\"\u001b[39m\u001b[38;5;124min the dataset. Expected a subset of:\u001b[39m\u001b[38;5;130;01m\\n\u001b[39;00m\u001b[38;5;132;01m{}\u001b[39;00m\u001b[38;5;130;01m\\n\u001b[39;00m\u001b[38;5;124mGot:\u001b[39m\u001b[38;5;130;01m\\n\u001b[39;00m\u001b[38;5;124m\"\u001b[39m\n\u001b[1;32m     83\u001b[0m                      \u001b[38;5;124m\"\u001b[39m\u001b[38;5;132;01m{}\u001b[39;00m\u001b[38;5;124m\"\u001b[39m\u001b[38;5;241m.\u001b[39mformat(all_prot_attrs, prot_attr))\n\u001b[1;32m     85\u001b[0m groups \u001b[38;5;241m=\u001b[39m arr\u001b[38;5;241m.\u001b[39mindex\u001b[38;5;241m.\u001b[39mdroplevel(\u001b[38;5;28mlist\u001b[39m(\u001b[38;5;28mset\u001b[39m(arr\u001b[38;5;241m.\u001b[39mindex\u001b[38;5;241m.\u001b[39mnames) \u001b[38;5;241m-\u001b[39m \u001b[38;5;28mset\u001b[39m(prot_attr)))\n\u001b[1;32m     86\u001b[0m groups \u001b[38;5;241m=\u001b[39m groups\u001b[38;5;241m.\u001b[39mto_flat_index()\n",
      "\u001b[0;31mValueError\u001b[0m: Some of the attributes provided are not present in the dataset. Expected a subset of:\n[]\nGot:\n['sex']"
     ]
    }
   ],
   "source": [
    "average_odds_error(y_test, y_pred, prot_attr='sex')"
   ]
  },
  {
   "cell_type": "code",
   "execution_count": null,
   "id": "112ad9b3",
   "metadata": {},
   "outputs": [],
   "source": []
  },
  {
   "cell_type": "code",
   "execution_count": null,
   "id": "2b6259a8",
   "metadata": {},
   "outputs": [],
   "source": []
  }
 ],
 "metadata": {
  "kernelspec": {
   "display_name": "Python 3",
   "language": "python",
   "name": "python3"
  },
  "language_info": {
   "codemirror_mode": {
    "name": "ipython",
    "version": 3
   },
   "file_extension": ".py",
   "mimetype": "text/x-python",
   "name": "python",
   "nbconvert_exporter": "python",
   "pygments_lexer": "ipython3",
   "version": "3.9.12"
  }
 },
 "nbformat": 4,
 "nbformat_minor": 5
}
